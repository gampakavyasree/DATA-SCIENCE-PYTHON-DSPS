{
 "cells": [
  {
   "cell_type": "markdown",
   "metadata": {},
   "source": [
    "#CSE-22171306018-KAVYASREEGAMPA"
   ]
  },
  {
   "cell_type": "code",
   "execution_count": null,
   "metadata": {},
   "outputs": [],
   "source": [
    "#answer 1\n",
    "\n",
    "f = open(\"file1.txt\", \"w\")\n",
    "f.write(\"Data Science With Python,Advanced Programming,AI and ML,Full Stack Web Development\")\n",
    "f.close()\n",
    "\n",
    "f = open(\"file1.txt\",\"r\")\n",
    "data = f.read()\n",
    "print(data)\n",
    "f.close()\n",
    "\n",
    "f = open(\"file2.txt\",\"w\")\n",
    "f.write(data[::-1])\n",
    "f.close()"
   ]
  },
  {
   "cell_type": "code",
   "execution_count": null,
   "metadata": {},
   "outputs": [],
   "source": [
    "#answer 2\n",
    "\n",
    "L = [\"Data Science\\n\", \"Advanced Programming\\n\", \"AI and ML\\n\",\"Full Stack Web Development\\n\",\"Python Programming\\n\",\"Summer Internship\\n\"]\n",
    "\n",
    "f1 = open(\"myfile.txt\", \"w\") \n",
    "f1.writelines(L) \n",
    "f1.close()\n",
    "\n",
    "f1 = open(\"myfile.txt\", \"r\") \n",
    "count = 0\n",
    "\n",
    "print(\"Contents of file in order:\") \n",
    "for line in f1: \n",
    "    count += 1\n",
    "    print(\"{}. {}\".format(count, line.strip()))\n",
    "    \n",
    "f1.close()\n"
   ]
  },
  {
   "cell_type": "code",
   "execution_count": 19,
   "metadata": {},
   "outputs": [
    {
     "name": "stdout",
     "output_type": "stream",
     "text": [
      "True\n"
     ]
    }
   ],
   "source": [
    "#answer 3\n",
    "\n",
    "def Duplicates(listOfElems):\n",
    "    if len(list1) == len(set(list1)):\n",
    "        return False\n",
    "    else:\n",
    "        return True\n",
    "list1=[1,2,3,4,2]    \n",
    "result=Duplicates(list1)\n",
    "print(result)\n",
    "\n"
   ]
  },
  {
   "cell_type": "code",
   "execution_count": null,
   "metadata": {},
   "outputs": [],
   "source": [
    "#4.question\n",
    "import fraction as fr\n",
    "print(fr.add_fraction(2/3,4/6))\n",
    "print(fr.mul_fraction(2/3,4/6))\n",
    "\n",
    "print(fr.sub_fraction(2/3,1/2))\n",
    "\n",
    "\n",
    "\n",
    "def add_fraction(a,b):\n",
    "    return a+b\n",
    "\n",
    "def sub_fraction(c,d):\n",
    "    return c-d\n",
    "\n",
    "def mul_fraction(e,f):\n",
    "    return e*f\n"
   ]
  },
  {
   "cell_type": "code",
   "execution_count": 24,
   "metadata": {},
   "outputs": [
    {
     "name": "stdout",
     "output_type": "stream",
     "text": [
      "enter l1 size3\n",
      "1\n",
      "2\n",
      "1\n",
      "enter l2 size3\n",
      "2\n",
      "1\n",
      "1\n",
      "True\n"
     ]
    }
   ],
   "source": [
    "#5.question\n",
    "def perm(l1,l2):\n",
    "    if sorted(l2)== sorted(l1):\n",
    "        return True\n",
    "    else:\n",
    "        return False\n",
    "l1=[]\n",
    "n1=int(input(\"enter l1 size\"))\n",
    "for i in range(0,n1):\n",
    "    ele=int(input())\n",
    "    l1.append(ele)\n",
    "l2=[]\n",
    "n2=int(input(\"enter l2 size\"))\n",
    "for i in range(0,n2):\n",
    "    ele=int(input())\n",
    "    l2.append(ele)\n",
    "if(n1==n2):\n",
    "    res=perm(l1,l2)\n",
    "    print(res)\n",
    "else:\n",
    "    print(\"False\")"
   ]
  }
 ],
 "metadata": {
  "kernelspec": {
   "display_name": "Python 3",
   "language": "python",
   "name": "python3"
  },
  "language_info": {
   "codemirror_mode": {
    "name": "ipython",
    "version": 3
   },
   "file_extension": ".py",
   "mimetype": "text/x-python",
   "name": "python",
   "nbconvert_exporter": "python",
   "pygments_lexer": "ipython3",
   "version": "3.7.4"
  }
 },
 "nbformat": 4,
 "nbformat_minor": 2
}
