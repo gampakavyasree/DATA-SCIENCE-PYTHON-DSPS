{
 "cells": [
  {
   "cell_type": "markdown",
   "metadata": {},
   "source": [
    "#CSE-221710306018-KAVYASREEGAMPA"
   ]
  },
  {
   "cell_type": "code",
   "execution_count": 1,
   "metadata": {},
   "outputs": [],
   "source": [
    "#import the libraries\n",
    "import pandas as pd\n",
    "import numpy as np\n",
    "import matplotlib.pyplot as plt\n",
    "import seaborn as sns\n",
    "%matplotlib inline\n"
   ]
  },
  {
   "cell_type": "code",
   "execution_count": 2,
   "metadata": {},
   "outputs": [],
   "source": [
    "#loading dataset from sklearn library\n",
    "from sklearn.datasets import load_boston\n",
    "boston=load_boston()\n"
   ]
  },
  {
   "cell_type": "code",
   "execution_count": 3,
   "metadata": {},
   "outputs": [
    {
     "data": {
      "text/plain": [
       "{'data': array([[6.3200e-03, 1.8000e+01, 2.3100e+00, ..., 1.5300e+01, 3.9690e+02,\n",
       "         4.9800e+00],\n",
       "        [2.7310e-02, 0.0000e+00, 7.0700e+00, ..., 1.7800e+01, 3.9690e+02,\n",
       "         9.1400e+00],\n",
       "        [2.7290e-02, 0.0000e+00, 7.0700e+00, ..., 1.7800e+01, 3.9283e+02,\n",
       "         4.0300e+00],\n",
       "        ...,\n",
       "        [6.0760e-02, 0.0000e+00, 1.1930e+01, ..., 2.1000e+01, 3.9690e+02,\n",
       "         5.6400e+00],\n",
       "        [1.0959e-01, 0.0000e+00, 1.1930e+01, ..., 2.1000e+01, 3.9345e+02,\n",
       "         6.4800e+00],\n",
       "        [4.7410e-02, 0.0000e+00, 1.1930e+01, ..., 2.1000e+01, 3.9690e+02,\n",
       "         7.8800e+00]]),\n",
       " 'target': array([24. , 21.6, 34.7, 33.4, 36.2, 28.7, 22.9, 27.1, 16.5, 18.9, 15. ,\n",
       "        18.9, 21.7, 20.4, 18.2, 19.9, 23.1, 17.5, 20.2, 18.2, 13.6, 19.6,\n",
       "        15.2, 14.5, 15.6, 13.9, 16.6, 14.8, 18.4, 21. , 12.7, 14.5, 13.2,\n",
       "        13.1, 13.5, 18.9, 20. , 21. , 24.7, 30.8, 34.9, 26.6, 25.3, 24.7,\n",
       "        21.2, 19.3, 20. , 16.6, 14.4, 19.4, 19.7, 20.5, 25. , 23.4, 18.9,\n",
       "        35.4, 24.7, 31.6, 23.3, 19.6, 18.7, 16. , 22.2, 25. , 33. , 23.5,\n",
       "        19.4, 22. , 17.4, 20.9, 24.2, 21.7, 22.8, 23.4, 24.1, 21.4, 20. ,\n",
       "        20.8, 21.2, 20.3, 28. , 23.9, 24.8, 22.9, 23.9, 26.6, 22.5, 22.2,\n",
       "        23.6, 28.7, 22.6, 22. , 22.9, 25. , 20.6, 28.4, 21.4, 38.7, 43.8,\n",
       "        33.2, 27.5, 26.5, 18.6, 19.3, 20.1, 19.5, 19.5, 20.4, 19.8, 19.4,\n",
       "        21.7, 22.8, 18.8, 18.7, 18.5, 18.3, 21.2, 19.2, 20.4, 19.3, 22. ,\n",
       "        20.3, 20.5, 17.3, 18.8, 21.4, 15.7, 16.2, 18. , 14.3, 19.2, 19.6,\n",
       "        23. , 18.4, 15.6, 18.1, 17.4, 17.1, 13.3, 17.8, 14. , 14.4, 13.4,\n",
       "        15.6, 11.8, 13.8, 15.6, 14.6, 17.8, 15.4, 21.5, 19.6, 15.3, 19.4,\n",
       "        17. , 15.6, 13.1, 41.3, 24.3, 23.3, 27. , 50. , 50. , 50. , 22.7,\n",
       "        25. , 50. , 23.8, 23.8, 22.3, 17.4, 19.1, 23.1, 23.6, 22.6, 29.4,\n",
       "        23.2, 24.6, 29.9, 37.2, 39.8, 36.2, 37.9, 32.5, 26.4, 29.6, 50. ,\n",
       "        32. , 29.8, 34.9, 37. , 30.5, 36.4, 31.1, 29.1, 50. , 33.3, 30.3,\n",
       "        34.6, 34.9, 32.9, 24.1, 42.3, 48.5, 50. , 22.6, 24.4, 22.5, 24.4,\n",
       "        20. , 21.7, 19.3, 22.4, 28.1, 23.7, 25. , 23.3, 28.7, 21.5, 23. ,\n",
       "        26.7, 21.7, 27.5, 30.1, 44.8, 50. , 37.6, 31.6, 46.7, 31.5, 24.3,\n",
       "        31.7, 41.7, 48.3, 29. , 24. , 25.1, 31.5, 23.7, 23.3, 22. , 20.1,\n",
       "        22.2, 23.7, 17.6, 18.5, 24.3, 20.5, 24.5, 26.2, 24.4, 24.8, 29.6,\n",
       "        42.8, 21.9, 20.9, 44. , 50. , 36. , 30.1, 33.8, 43.1, 48.8, 31. ,\n",
       "        36.5, 22.8, 30.7, 50. , 43.5, 20.7, 21.1, 25.2, 24.4, 35.2, 32.4,\n",
       "        32. , 33.2, 33.1, 29.1, 35.1, 45.4, 35.4, 46. , 50. , 32.2, 22. ,\n",
       "        20.1, 23.2, 22.3, 24.8, 28.5, 37.3, 27.9, 23.9, 21.7, 28.6, 27.1,\n",
       "        20.3, 22.5, 29. , 24.8, 22. , 26.4, 33.1, 36.1, 28.4, 33.4, 28.2,\n",
       "        22.8, 20.3, 16.1, 22.1, 19.4, 21.6, 23.8, 16.2, 17.8, 19.8, 23.1,\n",
       "        21. , 23.8, 23.1, 20.4, 18.5, 25. , 24.6, 23. , 22.2, 19.3, 22.6,\n",
       "        19.8, 17.1, 19.4, 22.2, 20.7, 21.1, 19.5, 18.5, 20.6, 19. , 18.7,\n",
       "        32.7, 16.5, 23.9, 31.2, 17.5, 17.2, 23.1, 24.5, 26.6, 22.9, 24.1,\n",
       "        18.6, 30.1, 18.2, 20.6, 17.8, 21.7, 22.7, 22.6, 25. , 19.9, 20.8,\n",
       "        16.8, 21.9, 27.5, 21.9, 23.1, 50. , 50. , 50. , 50. , 50. , 13.8,\n",
       "        13.8, 15. , 13.9, 13.3, 13.1, 10.2, 10.4, 10.9, 11.3, 12.3,  8.8,\n",
       "         7.2, 10.5,  7.4, 10.2, 11.5, 15.1, 23.2,  9.7, 13.8, 12.7, 13.1,\n",
       "        12.5,  8.5,  5. ,  6.3,  5.6,  7.2, 12.1,  8.3,  8.5,  5. , 11.9,\n",
       "        27.9, 17.2, 27.5, 15. , 17.2, 17.9, 16.3,  7. ,  7.2,  7.5, 10.4,\n",
       "         8.8,  8.4, 16.7, 14.2, 20.8, 13.4, 11.7,  8.3, 10.2, 10.9, 11. ,\n",
       "         9.5, 14.5, 14.1, 16.1, 14.3, 11.7, 13.4,  9.6,  8.7,  8.4, 12.8,\n",
       "        10.5, 17.1, 18.4, 15.4, 10.8, 11.8, 14.9, 12.6, 14.1, 13. , 13.4,\n",
       "        15.2, 16.1, 17.8, 14.9, 14.1, 12.7, 13.5, 14.9, 20. , 16.4, 17.7,\n",
       "        19.5, 20.2, 21.4, 19.9, 19. , 19.1, 19.1, 20.1, 19.9, 19.6, 23.2,\n",
       "        29.8, 13.8, 13.3, 16.7, 12. , 14.6, 21.4, 23. , 23.7, 25. , 21.8,\n",
       "        20.6, 21.2, 19.1, 20.6, 15.2,  7. ,  8.1, 13.6, 20.1, 21.8, 24.5,\n",
       "        23.1, 19.7, 18.3, 21.2, 17.5, 16.8, 22.4, 20.6, 23.9, 22. , 11.9]),\n",
       " 'feature_names': array(['CRIM', 'ZN', 'INDUS', 'CHAS', 'NOX', 'RM', 'AGE', 'DIS', 'RAD',\n",
       "        'TAX', 'PTRATIO', 'B', 'LSTAT'], dtype='<U7'),\n",
       " 'DESCR': \".. _boston_dataset:\\n\\nBoston house prices dataset\\n---------------------------\\n\\n**Data Set Characteristics:**  \\n\\n    :Number of Instances: 506 \\n\\n    :Number of Attributes: 13 numeric/categorical predictive. Median Value (attribute 14) is usually the target.\\n\\n    :Attribute Information (in order):\\n        - CRIM     per capita crime rate by town\\n        - ZN       proportion of residential land zoned for lots over 25,000 sq.ft.\\n        - INDUS    proportion of non-retail business acres per town\\n        - CHAS     Charles River dummy variable (= 1 if tract bounds river; 0 otherwise)\\n        - NOX      nitric oxides concentration (parts per 10 million)\\n        - RM       average number of rooms per dwelling\\n        - AGE      proportion of owner-occupied units built prior to 1940\\n        - DIS      weighted distances to five Boston employment centres\\n        - RAD      index of accessibility to radial highways\\n        - TAX      full-value property-tax rate per $10,000\\n        - PTRATIO  pupil-teacher ratio by town\\n        - B        1000(Bk - 0.63)^2 where Bk is the proportion of blacks by town\\n        - LSTAT    % lower status of the population\\n        - MEDV     Median value of owner-occupied homes in $1000's\\n\\n    :Missing Attribute Values: None\\n\\n    :Creator: Harrison, D. and Rubinfeld, D.L.\\n\\nThis is a copy of UCI ML housing dataset.\\nhttps://archive.ics.uci.edu/ml/machine-learning-databases/housing/\\n\\n\\nThis dataset was taken from the StatLib library which is maintained at Carnegie Mellon University.\\n\\nThe Boston house-price data of Harrison, D. and Rubinfeld, D.L. 'Hedonic\\nprices and the demand for clean air', J. Environ. Economics & Management,\\nvol.5, 81-102, 1978.   Used in Belsley, Kuh & Welsch, 'Regression diagnostics\\n...', Wiley, 1980.   N.B. Various transformations are used in the table on\\npages 244-261 of the latter.\\n\\nThe Boston house-price data has been used in many machine learning papers that address regression\\nproblems.   \\n     \\n.. topic:: References\\n\\n   - Belsley, Kuh & Welsch, 'Regression diagnostics: Identifying Influential Data and Sources of Collinearity', Wiley, 1980. 244-261.\\n   - Quinlan,R. (1993). Combining Instance-Based and Model-Based Learning. In Proceedings on the Tenth International Conference of Machine Learning, 236-243, University of Massachusetts, Amherst. Morgan Kaufmann.\\n\",\n",
       " 'filename': 'C:\\\\Users\\\\Kavya sree\\\\Anaconda3\\\\lib\\\\site-packages\\\\sklearn\\\\datasets\\\\data\\\\boston_house_prices.csv'}"
      ]
     },
     "execution_count": 3,
     "metadata": {},
     "output_type": "execute_result"
    }
   ],
   "source": [
    "boston\n"
   ]
  },
  {
   "cell_type": "code",
   "execution_count": 4,
   "metadata": {},
   "outputs": [
    {
     "data": {
      "text/plain": [
       "dict_keys(['data', 'target', 'feature_names', 'DESCR', 'filename'])"
      ]
     },
     "execution_count": 4,
     "metadata": {},
     "output_type": "execute_result"
    }
   ],
   "source": [
    "#return keys of boston dictionary\n",
    "boston.keys()\n"
   ]
  },
  {
   "cell_type": "code",
   "execution_count": 5,
   "metadata": {},
   "outputs": [
    {
     "data": {
      "text/plain": [
       "array([[6.3200e-03, 1.8000e+01, 2.3100e+00, ..., 1.5300e+01, 3.9690e+02,\n",
       "        4.9800e+00],\n",
       "       [2.7310e-02, 0.0000e+00, 7.0700e+00, ..., 1.7800e+01, 3.9690e+02,\n",
       "        9.1400e+00],\n",
       "       [2.7290e-02, 0.0000e+00, 7.0700e+00, ..., 1.7800e+01, 3.9283e+02,\n",
       "        4.0300e+00],\n",
       "       ...,\n",
       "       [6.0760e-02, 0.0000e+00, 1.1930e+01, ..., 2.1000e+01, 3.9690e+02,\n",
       "        5.6400e+00],\n",
       "       [1.0959e-01, 0.0000e+00, 1.1930e+01, ..., 2.1000e+01, 3.9345e+02,\n",
       "        6.4800e+00],\n",
       "       [4.7410e-02, 0.0000e+00, 1.1930e+01, ..., 2.1000e+01, 3.9690e+02,\n",
       "        7.8800e+00]])"
      ]
     },
     "execution_count": 5,
     "metadata": {},
     "output_type": "execute_result"
    }
   ],
   "source": [
    "#access the data\n",
    "boston.data\n"
   ]
  },
  {
   "cell_type": "code",
   "execution_count": 6,
   "metadata": {},
   "outputs": [
    {
     "data": {
      "text/plain": [
       "array([24. , 21.6, 34.7, 33.4, 36.2, 28.7, 22.9, 27.1, 16.5, 18.9, 15. ,\n",
       "       18.9, 21.7, 20.4, 18.2, 19.9, 23.1, 17.5, 20.2, 18.2, 13.6, 19.6,\n",
       "       15.2, 14.5, 15.6, 13.9, 16.6, 14.8, 18.4, 21. , 12.7, 14.5, 13.2,\n",
       "       13.1, 13.5, 18.9, 20. , 21. , 24.7, 30.8, 34.9, 26.6, 25.3, 24.7,\n",
       "       21.2, 19.3, 20. , 16.6, 14.4, 19.4, 19.7, 20.5, 25. , 23.4, 18.9,\n",
       "       35.4, 24.7, 31.6, 23.3, 19.6, 18.7, 16. , 22.2, 25. , 33. , 23.5,\n",
       "       19.4, 22. , 17.4, 20.9, 24.2, 21.7, 22.8, 23.4, 24.1, 21.4, 20. ,\n",
       "       20.8, 21.2, 20.3, 28. , 23.9, 24.8, 22.9, 23.9, 26.6, 22.5, 22.2,\n",
       "       23.6, 28.7, 22.6, 22. , 22.9, 25. , 20.6, 28.4, 21.4, 38.7, 43.8,\n",
       "       33.2, 27.5, 26.5, 18.6, 19.3, 20.1, 19.5, 19.5, 20.4, 19.8, 19.4,\n",
       "       21.7, 22.8, 18.8, 18.7, 18.5, 18.3, 21.2, 19.2, 20.4, 19.3, 22. ,\n",
       "       20.3, 20.5, 17.3, 18.8, 21.4, 15.7, 16.2, 18. , 14.3, 19.2, 19.6,\n",
       "       23. , 18.4, 15.6, 18.1, 17.4, 17.1, 13.3, 17.8, 14. , 14.4, 13.4,\n",
       "       15.6, 11.8, 13.8, 15.6, 14.6, 17.8, 15.4, 21.5, 19.6, 15.3, 19.4,\n",
       "       17. , 15.6, 13.1, 41.3, 24.3, 23.3, 27. , 50. , 50. , 50. , 22.7,\n",
       "       25. , 50. , 23.8, 23.8, 22.3, 17.4, 19.1, 23.1, 23.6, 22.6, 29.4,\n",
       "       23.2, 24.6, 29.9, 37.2, 39.8, 36.2, 37.9, 32.5, 26.4, 29.6, 50. ,\n",
       "       32. , 29.8, 34.9, 37. , 30.5, 36.4, 31.1, 29.1, 50. , 33.3, 30.3,\n",
       "       34.6, 34.9, 32.9, 24.1, 42.3, 48.5, 50. , 22.6, 24.4, 22.5, 24.4,\n",
       "       20. , 21.7, 19.3, 22.4, 28.1, 23.7, 25. , 23.3, 28.7, 21.5, 23. ,\n",
       "       26.7, 21.7, 27.5, 30.1, 44.8, 50. , 37.6, 31.6, 46.7, 31.5, 24.3,\n",
       "       31.7, 41.7, 48.3, 29. , 24. , 25.1, 31.5, 23.7, 23.3, 22. , 20.1,\n",
       "       22.2, 23.7, 17.6, 18.5, 24.3, 20.5, 24.5, 26.2, 24.4, 24.8, 29.6,\n",
       "       42.8, 21.9, 20.9, 44. , 50. , 36. , 30.1, 33.8, 43.1, 48.8, 31. ,\n",
       "       36.5, 22.8, 30.7, 50. , 43.5, 20.7, 21.1, 25.2, 24.4, 35.2, 32.4,\n",
       "       32. , 33.2, 33.1, 29.1, 35.1, 45.4, 35.4, 46. , 50. , 32.2, 22. ,\n",
       "       20.1, 23.2, 22.3, 24.8, 28.5, 37.3, 27.9, 23.9, 21.7, 28.6, 27.1,\n",
       "       20.3, 22.5, 29. , 24.8, 22. , 26.4, 33.1, 36.1, 28.4, 33.4, 28.2,\n",
       "       22.8, 20.3, 16.1, 22.1, 19.4, 21.6, 23.8, 16.2, 17.8, 19.8, 23.1,\n",
       "       21. , 23.8, 23.1, 20.4, 18.5, 25. , 24.6, 23. , 22.2, 19.3, 22.6,\n",
       "       19.8, 17.1, 19.4, 22.2, 20.7, 21.1, 19.5, 18.5, 20.6, 19. , 18.7,\n",
       "       32.7, 16.5, 23.9, 31.2, 17.5, 17.2, 23.1, 24.5, 26.6, 22.9, 24.1,\n",
       "       18.6, 30.1, 18.2, 20.6, 17.8, 21.7, 22.7, 22.6, 25. , 19.9, 20.8,\n",
       "       16.8, 21.9, 27.5, 21.9, 23.1, 50. , 50. , 50. , 50. , 50. , 13.8,\n",
       "       13.8, 15. , 13.9, 13.3, 13.1, 10.2, 10.4, 10.9, 11.3, 12.3,  8.8,\n",
       "        7.2, 10.5,  7.4, 10.2, 11.5, 15.1, 23.2,  9.7, 13.8, 12.7, 13.1,\n",
       "       12.5,  8.5,  5. ,  6.3,  5.6,  7.2, 12.1,  8.3,  8.5,  5. , 11.9,\n",
       "       27.9, 17.2, 27.5, 15. , 17.2, 17.9, 16.3,  7. ,  7.2,  7.5, 10.4,\n",
       "        8.8,  8.4, 16.7, 14.2, 20.8, 13.4, 11.7,  8.3, 10.2, 10.9, 11. ,\n",
       "        9.5, 14.5, 14.1, 16.1, 14.3, 11.7, 13.4,  9.6,  8.7,  8.4, 12.8,\n",
       "       10.5, 17.1, 18.4, 15.4, 10.8, 11.8, 14.9, 12.6, 14.1, 13. , 13.4,\n",
       "       15.2, 16.1, 17.8, 14.9, 14.1, 12.7, 13.5, 14.9, 20. , 16.4, 17.7,\n",
       "       19.5, 20.2, 21.4, 19.9, 19. , 19.1, 19.1, 20.1, 19.9, 19.6, 23.2,\n",
       "       29.8, 13.8, 13.3, 16.7, 12. , 14.6, 21.4, 23. , 23.7, 25. , 21.8,\n",
       "       20.6, 21.2, 19.1, 20.6, 15.2,  7. ,  8.1, 13.6, 20.1, 21.8, 24.5,\n",
       "       23.1, 19.7, 18.3, 21.2, 17.5, 16.8, 22.4, 20.6, 23.9, 22. , 11.9])"
      ]
     },
     "execution_count": 6,
     "metadata": {},
     "output_type": "execute_result"
    }
   ],
   "source": [
    "boston.target\n"
   ]
  },
  {
   "cell_type": "code",
   "execution_count": 7,
   "metadata": {},
   "outputs": [
    {
     "data": {
      "text/plain": [
       "array(['CRIM', 'ZN', 'INDUS', 'CHAS', 'NOX', 'RM', 'AGE', 'DIS', 'RAD',\n",
       "       'TAX', 'PTRATIO', 'B', 'LSTAT'], dtype='<U7')"
      ]
     },
     "execution_count": 7,
     "metadata": {},
     "output_type": "execute_result"
    }
   ],
   "source": [
    "boston.feature_names\n"
   ]
  },
  {
   "cell_type": "code",
   "execution_count": 8,
   "metadata": {},
   "outputs": [
    {
     "data": {
      "text/html": [
       "<div>\n",
       "<style scoped>\n",
       "    .dataframe tbody tr th:only-of-type {\n",
       "        vertical-align: middle;\n",
       "    }\n",
       "\n",
       "    .dataframe tbody tr th {\n",
       "        vertical-align: top;\n",
       "    }\n",
       "\n",
       "    .dataframe thead th {\n",
       "        text-align: right;\n",
       "    }\n",
       "</style>\n",
       "<table border=\"1\" class=\"dataframe\">\n",
       "  <thead>\n",
       "    <tr style=\"text-align: right;\">\n",
       "      <th></th>\n",
       "      <th>CRIM</th>\n",
       "      <th>ZN</th>\n",
       "      <th>INDUS</th>\n",
       "      <th>CHAS</th>\n",
       "      <th>NOX</th>\n",
       "      <th>RM</th>\n",
       "      <th>AGE</th>\n",
       "      <th>DIS</th>\n",
       "      <th>RAD</th>\n",
       "      <th>TAX</th>\n",
       "      <th>PTRATIO</th>\n",
       "      <th>B</th>\n",
       "      <th>LSTAT</th>\n",
       "    </tr>\n",
       "  </thead>\n",
       "  <tbody>\n",
       "    <tr>\n",
       "      <td>0</td>\n",
       "      <td>0.00632</td>\n",
       "      <td>18.0</td>\n",
       "      <td>2.31</td>\n",
       "      <td>0.0</td>\n",
       "      <td>0.538</td>\n",
       "      <td>6.575</td>\n",
       "      <td>65.2</td>\n",
       "      <td>4.0900</td>\n",
       "      <td>1.0</td>\n",
       "      <td>296.0</td>\n",
       "      <td>15.3</td>\n",
       "      <td>396.90</td>\n",
       "      <td>4.98</td>\n",
       "    </tr>\n",
       "    <tr>\n",
       "      <td>1</td>\n",
       "      <td>0.02731</td>\n",
       "      <td>0.0</td>\n",
       "      <td>7.07</td>\n",
       "      <td>0.0</td>\n",
       "      <td>0.469</td>\n",
       "      <td>6.421</td>\n",
       "      <td>78.9</td>\n",
       "      <td>4.9671</td>\n",
       "      <td>2.0</td>\n",
       "      <td>242.0</td>\n",
       "      <td>17.8</td>\n",
       "      <td>396.90</td>\n",
       "      <td>9.14</td>\n",
       "    </tr>\n",
       "    <tr>\n",
       "      <td>2</td>\n",
       "      <td>0.02729</td>\n",
       "      <td>0.0</td>\n",
       "      <td>7.07</td>\n",
       "      <td>0.0</td>\n",
       "      <td>0.469</td>\n",
       "      <td>7.185</td>\n",
       "      <td>61.1</td>\n",
       "      <td>4.9671</td>\n",
       "      <td>2.0</td>\n",
       "      <td>242.0</td>\n",
       "      <td>17.8</td>\n",
       "      <td>392.83</td>\n",
       "      <td>4.03</td>\n",
       "    </tr>\n",
       "    <tr>\n",
       "      <td>3</td>\n",
       "      <td>0.03237</td>\n",
       "      <td>0.0</td>\n",
       "      <td>2.18</td>\n",
       "      <td>0.0</td>\n",
       "      <td>0.458</td>\n",
       "      <td>6.998</td>\n",
       "      <td>45.8</td>\n",
       "      <td>6.0622</td>\n",
       "      <td>3.0</td>\n",
       "      <td>222.0</td>\n",
       "      <td>18.7</td>\n",
       "      <td>394.63</td>\n",
       "      <td>2.94</td>\n",
       "    </tr>\n",
       "    <tr>\n",
       "      <td>4</td>\n",
       "      <td>0.06905</td>\n",
       "      <td>0.0</td>\n",
       "      <td>2.18</td>\n",
       "      <td>0.0</td>\n",
       "      <td>0.458</td>\n",
       "      <td>7.147</td>\n",
       "      <td>54.2</td>\n",
       "      <td>6.0622</td>\n",
       "      <td>3.0</td>\n",
       "      <td>222.0</td>\n",
       "      <td>18.7</td>\n",
       "      <td>396.90</td>\n",
       "      <td>5.33</td>\n",
       "    </tr>\n",
       "    <tr>\n",
       "      <td>...</td>\n",
       "      <td>...</td>\n",
       "      <td>...</td>\n",
       "      <td>...</td>\n",
       "      <td>...</td>\n",
       "      <td>...</td>\n",
       "      <td>...</td>\n",
       "      <td>...</td>\n",
       "      <td>...</td>\n",
       "      <td>...</td>\n",
       "      <td>...</td>\n",
       "      <td>...</td>\n",
       "      <td>...</td>\n",
       "      <td>...</td>\n",
       "    </tr>\n",
       "    <tr>\n",
       "      <td>501</td>\n",
       "      <td>0.06263</td>\n",
       "      <td>0.0</td>\n",
       "      <td>11.93</td>\n",
       "      <td>0.0</td>\n",
       "      <td>0.573</td>\n",
       "      <td>6.593</td>\n",
       "      <td>69.1</td>\n",
       "      <td>2.4786</td>\n",
       "      <td>1.0</td>\n",
       "      <td>273.0</td>\n",
       "      <td>21.0</td>\n",
       "      <td>391.99</td>\n",
       "      <td>9.67</td>\n",
       "    </tr>\n",
       "    <tr>\n",
       "      <td>502</td>\n",
       "      <td>0.04527</td>\n",
       "      <td>0.0</td>\n",
       "      <td>11.93</td>\n",
       "      <td>0.0</td>\n",
       "      <td>0.573</td>\n",
       "      <td>6.120</td>\n",
       "      <td>76.7</td>\n",
       "      <td>2.2875</td>\n",
       "      <td>1.0</td>\n",
       "      <td>273.0</td>\n",
       "      <td>21.0</td>\n",
       "      <td>396.90</td>\n",
       "      <td>9.08</td>\n",
       "    </tr>\n",
       "    <tr>\n",
       "      <td>503</td>\n",
       "      <td>0.06076</td>\n",
       "      <td>0.0</td>\n",
       "      <td>11.93</td>\n",
       "      <td>0.0</td>\n",
       "      <td>0.573</td>\n",
       "      <td>6.976</td>\n",
       "      <td>91.0</td>\n",
       "      <td>2.1675</td>\n",
       "      <td>1.0</td>\n",
       "      <td>273.0</td>\n",
       "      <td>21.0</td>\n",
       "      <td>396.90</td>\n",
       "      <td>5.64</td>\n",
       "    </tr>\n",
       "    <tr>\n",
       "      <td>504</td>\n",
       "      <td>0.10959</td>\n",
       "      <td>0.0</td>\n",
       "      <td>11.93</td>\n",
       "      <td>0.0</td>\n",
       "      <td>0.573</td>\n",
       "      <td>6.794</td>\n",
       "      <td>89.3</td>\n",
       "      <td>2.3889</td>\n",
       "      <td>1.0</td>\n",
       "      <td>273.0</td>\n",
       "      <td>21.0</td>\n",
       "      <td>393.45</td>\n",
       "      <td>6.48</td>\n",
       "    </tr>\n",
       "    <tr>\n",
       "      <td>505</td>\n",
       "      <td>0.04741</td>\n",
       "      <td>0.0</td>\n",
       "      <td>11.93</td>\n",
       "      <td>0.0</td>\n",
       "      <td>0.573</td>\n",
       "      <td>6.030</td>\n",
       "      <td>80.8</td>\n",
       "      <td>2.5050</td>\n",
       "      <td>1.0</td>\n",
       "      <td>273.0</td>\n",
       "      <td>21.0</td>\n",
       "      <td>396.90</td>\n",
       "      <td>7.88</td>\n",
       "    </tr>\n",
       "  </tbody>\n",
       "</table>\n",
       "<p>506 rows × 13 columns</p>\n",
       "</div>"
      ],
      "text/plain": [
       "        CRIM    ZN  INDUS  CHAS    NOX     RM   AGE     DIS  RAD    TAX  \\\n",
       "0    0.00632  18.0   2.31   0.0  0.538  6.575  65.2  4.0900  1.0  296.0   \n",
       "1    0.02731   0.0   7.07   0.0  0.469  6.421  78.9  4.9671  2.0  242.0   \n",
       "2    0.02729   0.0   7.07   0.0  0.469  7.185  61.1  4.9671  2.0  242.0   \n",
       "3    0.03237   0.0   2.18   0.0  0.458  6.998  45.8  6.0622  3.0  222.0   \n",
       "4    0.06905   0.0   2.18   0.0  0.458  7.147  54.2  6.0622  3.0  222.0   \n",
       "..       ...   ...    ...   ...    ...    ...   ...     ...  ...    ...   \n",
       "501  0.06263   0.0  11.93   0.0  0.573  6.593  69.1  2.4786  1.0  273.0   \n",
       "502  0.04527   0.0  11.93   0.0  0.573  6.120  76.7  2.2875  1.0  273.0   \n",
       "503  0.06076   0.0  11.93   0.0  0.573  6.976  91.0  2.1675  1.0  273.0   \n",
       "504  0.10959   0.0  11.93   0.0  0.573  6.794  89.3  2.3889  1.0  273.0   \n",
       "505  0.04741   0.0  11.93   0.0  0.573  6.030  80.8  2.5050  1.0  273.0   \n",
       "\n",
       "     PTRATIO       B  LSTAT  \n",
       "0       15.3  396.90   4.98  \n",
       "1       17.8  396.90   9.14  \n",
       "2       17.8  392.83   4.03  \n",
       "3       18.7  394.63   2.94  \n",
       "4       18.7  396.90   5.33  \n",
       "..       ...     ...    ...  \n",
       "501     21.0  391.99   9.67  \n",
       "502     21.0  396.90   9.08  \n",
       "503     21.0  396.90   5.64  \n",
       "504     21.0  393.45   6.48  \n",
       "505     21.0  396.90   7.88  \n",
       "\n",
       "[506 rows x 13 columns]"
      ]
     },
     "execution_count": 8,
     "metadata": {},
     "output_type": "execute_result"
    }
   ],
   "source": [
    "#to create a dataframe out of dictionary\n",
    "boston_df=pd.DataFrame(data=boston.data,columns=boston.feature_names)\n",
    "boston_df\n"
   ]
  },
  {
   "cell_type": "code",
   "execution_count": 9,
   "metadata": {},
   "outputs": [
    {
     "data": {
      "text/html": [
       "<div>\n",
       "<style scoped>\n",
       "    .dataframe tbody tr th:only-of-type {\n",
       "        vertical-align: middle;\n",
       "    }\n",
       "\n",
       "    .dataframe tbody tr th {\n",
       "        vertical-align: top;\n",
       "    }\n",
       "\n",
       "    .dataframe thead th {\n",
       "        text-align: right;\n",
       "    }\n",
       "</style>\n",
       "<table border=\"1\" class=\"dataframe\">\n",
       "  <thead>\n",
       "    <tr style=\"text-align: right;\">\n",
       "      <th></th>\n",
       "      <th>CRIM</th>\n",
       "      <th>ZN</th>\n",
       "      <th>INDUS</th>\n",
       "      <th>CHAS</th>\n",
       "      <th>NOX</th>\n",
       "      <th>RM</th>\n",
       "      <th>AGE</th>\n",
       "      <th>DIS</th>\n",
       "      <th>RAD</th>\n",
       "      <th>TAX</th>\n",
       "      <th>PTRATIO</th>\n",
       "      <th>B</th>\n",
       "      <th>LSTAT</th>\n",
       "      <th>MEDV</th>\n",
       "    </tr>\n",
       "  </thead>\n",
       "  <tbody>\n",
       "    <tr>\n",
       "      <td>0</td>\n",
       "      <td>0.00632</td>\n",
       "      <td>18.0</td>\n",
       "      <td>2.31</td>\n",
       "      <td>0.0</td>\n",
       "      <td>0.538</td>\n",
       "      <td>6.575</td>\n",
       "      <td>65.2</td>\n",
       "      <td>4.0900</td>\n",
       "      <td>1.0</td>\n",
       "      <td>296.0</td>\n",
       "      <td>15.3</td>\n",
       "      <td>396.90</td>\n",
       "      <td>4.98</td>\n",
       "      <td>24.0</td>\n",
       "    </tr>\n",
       "    <tr>\n",
       "      <td>1</td>\n",
       "      <td>0.02731</td>\n",
       "      <td>0.0</td>\n",
       "      <td>7.07</td>\n",
       "      <td>0.0</td>\n",
       "      <td>0.469</td>\n",
       "      <td>6.421</td>\n",
       "      <td>78.9</td>\n",
       "      <td>4.9671</td>\n",
       "      <td>2.0</td>\n",
       "      <td>242.0</td>\n",
       "      <td>17.8</td>\n",
       "      <td>396.90</td>\n",
       "      <td>9.14</td>\n",
       "      <td>21.6</td>\n",
       "    </tr>\n",
       "    <tr>\n",
       "      <td>2</td>\n",
       "      <td>0.02729</td>\n",
       "      <td>0.0</td>\n",
       "      <td>7.07</td>\n",
       "      <td>0.0</td>\n",
       "      <td>0.469</td>\n",
       "      <td>7.185</td>\n",
       "      <td>61.1</td>\n",
       "      <td>4.9671</td>\n",
       "      <td>2.0</td>\n",
       "      <td>242.0</td>\n",
       "      <td>17.8</td>\n",
       "      <td>392.83</td>\n",
       "      <td>4.03</td>\n",
       "      <td>34.7</td>\n",
       "    </tr>\n",
       "    <tr>\n",
       "      <td>3</td>\n",
       "      <td>0.03237</td>\n",
       "      <td>0.0</td>\n",
       "      <td>2.18</td>\n",
       "      <td>0.0</td>\n",
       "      <td>0.458</td>\n",
       "      <td>6.998</td>\n",
       "      <td>45.8</td>\n",
       "      <td>6.0622</td>\n",
       "      <td>3.0</td>\n",
       "      <td>222.0</td>\n",
       "      <td>18.7</td>\n",
       "      <td>394.63</td>\n",
       "      <td>2.94</td>\n",
       "      <td>33.4</td>\n",
       "    </tr>\n",
       "    <tr>\n",
       "      <td>4</td>\n",
       "      <td>0.06905</td>\n",
       "      <td>0.0</td>\n",
       "      <td>2.18</td>\n",
       "      <td>0.0</td>\n",
       "      <td>0.458</td>\n",
       "      <td>7.147</td>\n",
       "      <td>54.2</td>\n",
       "      <td>6.0622</td>\n",
       "      <td>3.0</td>\n",
       "      <td>222.0</td>\n",
       "      <td>18.7</td>\n",
       "      <td>396.90</td>\n",
       "      <td>5.33</td>\n",
       "      <td>36.2</td>\n",
       "    </tr>\n",
       "  </tbody>\n",
       "</table>\n",
       "</div>"
      ],
      "text/plain": [
       "      CRIM    ZN  INDUS  CHAS    NOX     RM   AGE     DIS  RAD    TAX  \\\n",
       "0  0.00632  18.0   2.31   0.0  0.538  6.575  65.2  4.0900  1.0  296.0   \n",
       "1  0.02731   0.0   7.07   0.0  0.469  6.421  78.9  4.9671  2.0  242.0   \n",
       "2  0.02729   0.0   7.07   0.0  0.469  7.185  61.1  4.9671  2.0  242.0   \n",
       "3  0.03237   0.0   2.18   0.0  0.458  6.998  45.8  6.0622  3.0  222.0   \n",
       "4  0.06905   0.0   2.18   0.0  0.458  7.147  54.2  6.0622  3.0  222.0   \n",
       "\n",
       "   PTRATIO       B  LSTAT  MEDV  \n",
       "0     15.3  396.90   4.98  24.0  \n",
       "1     17.8  396.90   9.14  21.6  \n",
       "2     17.8  392.83   4.03  34.7  \n",
       "3     18.7  394.63   2.94  33.4  \n",
       "4     18.7  396.90   5.33  36.2  "
      ]
     },
     "execution_count": 9,
     "metadata": {},
     "output_type": "execute_result"
    }
   ],
   "source": [
    "boston_df['MEDV']=boston.target\n",
    "boston_df.head()\n"
   ]
  },
  {
   "cell_type": "code",
   "execution_count": 10,
   "metadata": {},
   "outputs": [
    {
     "data": {
      "text/plain": [
       "<matplotlib.axes._subplots.AxesSubplot at 0x2707082fe88>"
      ]
     },
     "execution_count": 10,
     "metadata": {},
     "output_type": "execute_result"
    },
    {
     "data": {
      "image/png": "[encoded data removed]",
      "text/plain": [
       "<Figure size 432x288 with 1 Axes>"
      ]
     },
     "metadata": {
      "needs_background": "light"
     },
     "output_type": "display_data"
    }
   ],
   "source": [
    "sns.distplot(boston_df['MEDV'])\n"
   ]
  },
  {
   "cell_type": "markdown",
   "metadata": {},
   "source": [
    "Consider LSTAT (% lower status of the population) as input and build a SLR Model to predict the MEDV\n",
    "Find the correlation by plotting a scatter plot between those two variables and write down the observations like how the variable are related to each other"
   ]
  },
  {
   "cell_type": "code",
   "execution_count": 11,
   "metadata": {},
   "outputs": [],
   "source": [
    "X=boston_df[['LSTAT']]  #[[]]-->displays data as dataframe\n",
    "y=boston_df['MEDV']\n"
   ]
  },
  {
   "cell_type": "code",
   "execution_count": 12,
   "metadata": {},
   "outputs": [
    {
     "data": {
      "text/plain": [
       "0      24.0\n",
       "1      21.6\n",
       "2      34.7\n",
       "3      33.4\n",
       "4      36.2\n",
       "       ... \n",
       "501    22.4\n",
       "502    20.6\n",
       "503    23.9\n",
       "504    22.0\n",
       "505    11.9\n",
       "Name: MEDV, Length: 506, dtype: float64"
      ]
     },
     "execution_count": 12,
     "metadata": {},
     "output_type": "execute_result"
    }
   ],
   "source": [
    "y"
   ]
  },
  {
   "cell_type": "code",
   "execution_count": 13,
   "metadata": {},
   "outputs": [
    {
     "data": {
      "image/png": "[encoded data removed]",
      "text/plain": [
       "<Figure size 432x288 with 1 Axes>"
      ]
     },
     "metadata": {},
     "output_type": "display_data"
    }
   ],
   "source": [
    "with plt.style.context(\"grayscale\"):\n",
    "    plt.plot(X,y,'bo')\n",
    "    plt.xlabel(\"LSTAT I/P\")\n",
    "    plt.ylabel(\"MEDV O/P\")\n",
    "    plt.title(\"scatter plot\")\n"
   ]
  },
  {
   "cell_type": "code",
   "execution_count": 14,
   "metadata": {},
   "outputs": [
    {
     "data": {
      "text/plain": [
       "LinearRegression(copy_X=True, fit_intercept=True, n_jobs=None, normalize=False)"
      ]
     },
     "execution_count": 14,
     "metadata": {},
     "output_type": "execute_result"
    }
   ],
   "source": [
    "#usual sklearn: import, instantiate, fit\n",
    "from sklearn.linear_model import LinearRegression\n",
    "lm= LinearRegression()\n",
    "lm.fit(X,y)\n"
   ]
  },
  {
   "cell_type": "code",
   "execution_count": 15,
   "metadata": {},
   "outputs": [
    {
     "name": "stdout",
     "output_type": "stream",
     "text": [
      "34.55384087938311\n",
      "[-0.95004935]\n"
     ]
    }
   ],
   "source": [
    "#print intercept and coefficient\n",
    "print(lm.intercept_)\n",
    "print(lm.coef_)\n"
   ]
  },
  {
   "cell_type": "code",
   "execution_count": 16,
   "metadata": {},
   "outputs": [
    {
     "data": {
      "text/plain": [
       "array([29.8225951 , 25.87038979, 30.72514198, 31.76069578, 29.49007782,\n",
       "       29.60408375, 22.74472741, 16.36039575,  6.11886372, 18.30799693,\n",
       "       15.1253316 , 21.94668596, 19.62856553, 26.70643322, 24.80633451,\n",
       "       26.50692285, 28.30251613, 20.61661686, 23.44776393, 23.83728417,\n",
       "       14.58380346, 21.41465832, 16.76891698, 15.66685973, 19.06803641,\n",
       "       18.86852605, 20.48360995, 18.13698805, 22.39320915, 23.17224962,\n",
       "       13.08272548, 22.16519731,  8.22797329, 17.12043524, 15.22983702,\n",
       "       25.35736314, 23.71377775, 26.22190805, 24.92984093, 30.44962767,\n",
       "       32.67274316, 29.95560201, 29.03405413, 27.48547369, 25.48086955,\n",
       "       24.85383698, 21.11064252, 16.69291303,  5.28282029, 19.16304135,\n",
       "       21.77567707, 25.59487547, 29.53758029, 26.54492483, 20.49311044,\n",
       "       29.98410349, 29.07205611, 30.80114593, 28.03650231, 25.79438584,\n",
       "       22.06069188, 20.83512821, 28.16000873, 25.52837202, 26.90594358,\n",
       "       30.1171104 , 24.8253355 , 26.85844111, 22.11769484, 26.20290706,\n",
       "       28.16950922, 25.16735326, 29.30956845, 27.39046875, 28.11250626,\n",
       "       26.06039966, 23.18175011, 24.79683402, 22.83023185, 25.90839176,\n",
       "       29.5280798 , 27.69448455, 28.16950922, 27.41897023, 25.4143661 ,\n",
       "       28.3500186 , 22.33620619, 26.53542433, 29.32856943, 29.13855956,\n",
       "       26.18390607, 26.76343618, 26.80143815, 28.65403439, 24.49281822,\n",
       "       28.23601268, 23.78028121, 30.5541331 , 31.16216469, 28.67303538,\n",
       "       25.60437597, 27.26696234, 24.45481625, 21.78517756, 22.83973235,\n",
       "       18.90652802, 16.82591994, 21.16764548, 22.89673531, 19.78057343,\n",
       "       22.20319928, 24.90133945, 19.15354085, 18.31749742, 24.62582513,\n",
       "       19.58106306, 23.11524666, 24.76833254, 19.95158231, 21.62366917,\n",
       "       20.90163167, 20.9966366 , 17.51945597, 10.4130868 , 17.85197324,\n",
       "       20.48360995,  8.6554955 , 18.22249249, 19.93258133, 17.12993573,\n",
       "       22.58321902, 22.9062358 , 23.98929207, 20.27459909, 18.10848657,\n",
       "       18.44100384, 18.4980068 , 20.69262081, 14.29878866, 17.01592981,\n",
       "       11.60064849,  1.86264262,  9.07351721,  9.45353695,  6.72689531,\n",
       "        8.14246884, 18.73551914,  6.49888346,  7.64844318, 14.17528224,\n",
       "       21.15814499, 21.93718546, 23.03924271, 19.55256158, 20.18909465,\n",
       "       20.28409959, 19.22004431, 30.19311435, 28.44502353, 27.53297616,\n",
       "       29.32856943, 32.9102555 , 32.72974612, 31.39967702, 23.4952664 ,\n",
       "       25.23385672, 31.03865827, 23.02024172, 24.00829305, 23.79928219,\n",
       "       20.8446287 , 23.12474715, 20.59761587, 25.96539472, 25.39536511,\n",
       "       29.49007782, 24.94884191, 28.57803044, 27.97949935, 29.76559214,\n",
       "       27.37146776, 25.57587449, 29.97460299, 29.15756055, 21.27215091,\n",
       "       22.06069188, 30.32612126, 28.2075112 , 30.22161583, 29.43307486,\n",
       "       29.70858918, 30.09810941, 31.82719923, 29.77509263, 30.39262471,\n",
       "       31.7321943 , 30.67763952, 26.37391594, 28.26451416, 30.22161583,\n",
       "       30.32612126, 27.49497418, 31.59918739, 30.93415284, 31.81769874,\n",
       "       24.2268044 , 24.13179947, 17.39594955, 20.62611735, 12.6172013 ,\n",
       "       18.14648854, 11.77165738, 19.32454974, 25.64237794,  6.47988248,\n",
       "       25.5568735 , 21.71867411, 25.34786264, 17.52895646, 24.57832266,\n",
       "       25.32886165, 14.16578175, 25.1198508 , 27.33346579, 30.62063655,\n",
       "       30.15511237, 31.5801864 , 28.51152699, 30.82964741, 30.98165531,\n",
       "       23.48576591, 29.56608177, 32.20721898, 30.80114593, 26.90594358,\n",
       "       24.21730391, 25.49037004, 30.06010744, 28.51152699, 27.55197714,\n",
       "       23.74227923, 22.77322889, 23.89428713, 29.62308473, 22.67822396,\n",
       "       17.01592981, 25.8513888 , 24.91083994, 25.50937103, 28.32151712,\n",
       "       28.94854969, 31.1431637 , 31.20016666, 31.19066617, 28.31201663,\n",
       "       25.76588436, 31.59918739, 29.68958819, 27.15295641, 27.99850034,\n",
       "       25.44286758, 27.65648257, 28.9390492 , 23.86578565, 26.85844111,\n",
       "       24.62582513, 20.50261094, 27.48547369, 31.55168492, 21.5856672 ,\n",
       "       22.20319928, 28.29301564, 27.20995937, 28.30251613, 31.20016666,\n",
       "       31.72269381, 28.80604229, 30.60163557, 27.72298603, 29.94610151,\n",
       "       30.98165531, 30.19311435, 31.69419232, 31.55168492, 27.09595345,\n",
       "       26.7349347 , 22.26970274, 27.77048849, 27.33346579, 25.51887153,\n",
       "       31.39017653, 31.17166518, 30.08860892, 26.40241742, 24.6733276 ,\n",
       "       28.59703143, 27.53297616, 19.50505912, 29.83209559, 30.05060694,\n",
       "       28.7870413 , 25.52837202, 26.31691298, 29.93660102, 27.96999886,\n",
       "       26.06990015, 28.40702156, 27.39996925, 30.24061681, 25.08184882,\n",
       "       22.54521705, 28.87254574, 23.41926245, 27.04845098, 25.73738288,\n",
       "       23.62827331, 17.13943622, 19.41005418, 24.71132957, 22.45971261,\n",
       "       27.71348553, 28.02700182, 27.23846086, 23.40026147, 28.73953883,\n",
       "       29.72759016, 28.71103735, 22.40270964, 25.08184882, 27.58047862,\n",
       "       25.91789225, 22.74472741, 27.11495444, 29.15756055, 28.14100774,\n",
       "       26.94394556, 25.24335721, 24.5213197 , 26.46892088, 25.30036017,\n",
       "       25.72788238, 29.33806993, 26.33591397, 27.73248652, 30.17411336,\n",
       "       24.54982118, 22.51671557, 28.51152699, 28.86304525, 28.95805019,\n",
       "       28.87254574, 29.33806993, 27.15295641, 30.27861879, 26.90594358,\n",
       "       29.26206598, 17.83297225, 21.94668596, 23.6472743 , 22.51671557,\n",
       "       27.15295641, 21.07264055, 24.87283796, 20.64511834, 29.5280798 ,\n",
       "       27.78948948, 21.25314993, 21.88968299, 31.45667999, 31.01015679,\n",
       "       31.74169479, 25.49987054, 26.11740262,  1.52062485, -1.51953308,\n",
       "       21.78517756, 12.4746939 , 14.37479261, 12.04717169, 13.86176595,\n",
       "       18.2034915 , 14.5268005 , 12.13267613, 11.22062875,  5.45382917,\n",
       "        5.28282029,  7.68644516,  4.16176205,  5.46332967, 14.74531185,\n",
       "       18.29849644, 16.730915  , 10.15657347, 20.14159218, 19.02053395,\n",
       "       18.28899594, 16.1513849 , 15.62885775,  5.49183115,  6.08086175,\n",
       "        9.12101968, 15.24883801, 15.2583385 , 15.77136516,  8.54148957,\n",
       "       12.72170673, 12.37968896, 23.02974222,  9.47253794, 15.76186466,\n",
       "       24.94884191, 14.39379359,  1.90064459, 15.47684986, -0.57898422,\n",
       "        6.95490715, 10.05206805,  9.2445261 , 14.9638232 , 12.94971857,\n",
       "       20.28409959, 19.63806603, 21.15814499, 12.42719143, 18.25099397,\n",
       "       11.38213714, 19.64756652, 20.75912426, 14.10877879, 11.67665244,\n",
       "       17.79497028, 15.8473691 , 23.12474715, 19.14404036, 20.14159218,\n",
       "       12.44619242, 17.40545004,  9.42503547,  2.23316186, 12.81671167,\n",
       "       13.54824967, 16.00887749, 18.7925221 , 16.64541056, 11.95216675,\n",
       "       11.77165738, 17.65246288, 18.9350295 , 17.3294461 , 16.20838786,\n",
       "       17.98498015, 17.70946584, 18.14648854, 18.6500147 , 16.77841747,\n",
       "       17.3294461 , 16.49340266, 18.46000483, 19.13453987, 20.58811538,\n",
       "       18.95403049, 20.63561785, 21.26265042, 24.77783303, 21.99418842,\n",
       "       21.12964351, 18.26049446, 14.29878866, 17.3294461 , 20.53111242,\n",
       "       19.07753691, 22.3267057 , 20.91113216, 23.47626541, 17.3199456 ,\n",
       "       11.65765145, 16.80691895, 10.88811148, 17.42445103, 22.09869385,\n",
       "       24.35031082, 27.20045888, 27.89399491, 24.65432661, 21.8801825 ,\n",
       "       24.50231872, 20.32210156, 23.67577578, 17.39594955, 11.78115787,\n",
       "        6.35637606, 17.38644906, 21.87068201, 23.14374814, 21.64267016,\n",
       "       17.83297225, 14.46979754, 21.15814499, 22.27920323, 20.20809564,\n",
       "       20.93963364, 25.36686363, 25.92739275, 29.19556252, 28.39752107,\n",
       "       27.06745197])"
      ]
     },
     "execution_count": 16,
     "metadata": {},
     "output_type": "execute_result"
    }
   ],
   "source": [
    "\n",
    "#with help of predict we are going to find our predicted values\n",
    "y_pred=lm.predict(X)\n",
    "y_pred\n"
   ]
  },
  {
   "cell_type": "code",
   "execution_count": 17,
   "metadata": {},
   "outputs": [
    {
     "data": {
      "text/plain": [
       "0.5441462975864799"
      ]
     },
     "execution_count": 17,
     "metadata": {},
     "output_type": "execute_result"
    }
   ],
   "source": [
    "#r2_value--> to check the model performance\n",
    "from sklearn.metrics import r2_score\n",
    "r2_score(y,y_pred)\n"
   ]
  },
  {
   "cell_type": "code",
   "execution_count": 18,
   "metadata": {},
   "outputs": [
    {
     "data": {
      "image/png": "[encoded data removed]",
      "text/plain": [
       "<Figure size 432x288 with 1 Axes>"
      ]
     },
     "metadata": {},
     "output_type": "display_data"
    }
   ],
   "source": [
    "#observe the regression line\n",
    "with sns.axes_style('dark'):\n",
    "    sns.regplot(X,y)\n"
   ]
  },
  {
   "cell_type": "code",
   "execution_count": 19,
   "metadata": {},
   "outputs": [
    {
     "data": {
      "text/plain": [
       "Text(0, 0.5, 'MEDV O/P')"
      ]
     },
     "execution_count": 19,
     "metadata": {},
     "output_type": "execute_result"
    },
    {
     "data": {
      "image/png": "[encoded data removed]",
      "text/plain": [
       "<Figure size 432x288 with 1 Axes>"
      ]
     },
     "metadata": {
      "needs_background": "light"
     },
     "output_type": "display_data"
    }
   ],
   "source": [
    "# scatterplot(regression)\n",
    "#first we are making a scatter plot of original data(X and y)\n",
    "#we need to plot a line for the predicted values(X,y_pred)\n",
    "plt.scatter(X,y,color=\"red\")\n",
    "plt.plot(X,y_pred,color=\"black\")\n",
    "plt.xlabel(\"LSTAT I/P\")\n",
    "plt.ylabel(\"MEDV O/P\")\n"
   ]
  },
  {
   "cell_type": "markdown",
   "metadata": {},
   "source": [
    "#LSTAT and MEDV are negatively correlated to each other"
   ]
  },
  {
   "cell_type": "code",
   "execution_count": null,
   "metadata": {},
   "outputs": [],
   "source": [
    "#\n",
    "Consider PTRATIO(pupil-teacher ratio by town) as input and build a SLR Model to predict the MEDV\n",
    "Find the correlation by plotting a scatter plot between those two variables and write down the observations like how the variable are related to each other\n",
    "\n"
   ]
  },
  {
   "cell_type": "code",
   "execution_count": 20,
   "metadata": {},
   "outputs": [],
   "source": [
    "X=boston_df[['PTRATIO']]  #[[]]-->displays data as dataframe\n",
    "y=boston_df['MEDV']"
   ]
  },
  {
   "cell_type": "code",
   "execution_count": 21,
   "metadata": {},
   "outputs": [
    {
     "data": {
      "image/png": "[encoded data removed]",
      "text/plain": [
       "<Figure size 432x288 with 1 Axes>"
      ]
     },
     "metadata": {},
     "output_type": "display_data"
    }
   ],
   "source": [
    "with plt.style.context(\"grayscale\"):\n",
    "    plt.plot(X,y,'bo')\n",
    "    plt.xlabel(\"PTRATIO I/P\")\n",
    "    plt.ylabel(\"MEDV O/P\")\n",
    "    plt.title(\"scatter plot\")\n"
   ]
  },
  {
   "cell_type": "code",
   "execution_count": 22,
   "metadata": {},
   "outputs": [
    {
     "data": {
      "text/plain": [
       "LinearRegression(copy_X=True, fit_intercept=True, n_jobs=None, normalize=False)"
      ]
     },
     "execution_count": 22,
     "metadata": {},
     "output_type": "execute_result"
    }
   ],
   "source": [
    "from sklearn.linear_model import LinearRegression\n",
    "lm= LinearRegression()\n",
    "lm.fit(X,y)\n"
   ]
  },
  {
   "cell_type": "code",
   "execution_count": 23,
   "metadata": {},
   "outputs": [
    {
     "name": "stdout",
     "output_type": "stream",
     "text": [
      "62.34462747483266\n",
      "[-2.1571753]\n"
     ]
    }
   ],
   "source": [
    "#print intercept and coefficient\n",
    "print(lm.intercept_)\n",
    "print(lm.coef_)\n"
   ]
  },
  {
   "cell_type": "code",
   "execution_count": 24,
   "metadata": {},
   "outputs": [
    {
     "data": {
      "text/plain": [
       "array([29.33984545, 23.9469072 , 23.9469072 , 22.00544944, 22.00544944,\n",
       "       22.00544944, 29.55556297, 29.55556297, 29.55556297, 29.55556297,\n",
       "       29.55556297, 29.55556297, 29.55556297, 17.04394626, 17.04394626,\n",
       "       17.04394626, 17.04394626, 17.04394626, 17.04394626, 17.04394626,\n",
       "       17.04394626, 17.04394626, 17.04394626, 17.04394626, 17.04394626,\n",
       "       17.04394626, 17.04394626, 17.04394626, 17.04394626, 17.04394626,\n",
       "       17.04394626, 17.04394626, 17.04394626, 17.04394626, 17.04394626,\n",
       "       20.92686179, 20.92686179, 20.92686179, 20.92686179, 22.86831956,\n",
       "       22.86831956, 23.73118968, 23.73118968, 23.73118968, 23.73118968,\n",
       "       23.73118968, 23.73118968, 23.73118968, 23.73118968, 23.73118968,\n",
       "       26.1040825 , 26.1040825 , 26.1040825 , 26.1040825 , 16.82822873,\n",
       "       23.73118968, 25.02549485, 29.7712805 , 19.84827414, 19.84827414,\n",
       "       19.84827414, 19.84827414, 19.84827414, 19.84827414, 22.22116697,\n",
       "       27.61410521, 27.61410521, 21.57401438, 21.57401438, 21.57401438,\n",
       "       20.92686179, 20.92686179, 20.92686179, 20.92686179, 22.00544944,\n",
       "       22.00544944, 22.00544944, 22.00544944, 22.00544944, 22.00544944,\n",
       "       21.35829685, 21.35829685, 21.35829685, 21.35829685, 22.4368845 ,\n",
       "       22.4368845 , 22.4368845 , 22.4368845 , 23.9469072 , 23.9469072 ,\n",
       "       23.9469072 , 23.9469072 , 23.08403709, 23.08403709, 23.08403709,\n",
       "       23.51547215, 23.51547215, 23.51547215, 23.51547215, 23.51547215,\n",
       "       17.25966379, 17.25966379, 17.25966379, 17.25966379, 17.25966379,\n",
       "       17.25966379, 17.25966379, 17.25966379, 17.25966379, 17.25966379,\n",
       "       17.25966379, 23.9469072 , 23.9469072 , 23.9469072 , 23.9469072 ,\n",
       "       23.9469072 , 23.9469072 , 23.9469072 , 23.9469072 , 23.9469072 ,\n",
       "       21.14257932, 21.14257932, 21.14257932, 21.14257932, 21.14257932,\n",
       "       21.14257932, 21.14257932, 16.6125112 , 16.6125112 , 16.6125112 ,\n",
       "       16.6125112 , 16.6125112 , 16.6125112 , 16.6125112 , 16.6125112 ,\n",
       "       16.6125112 , 16.6125112 , 16.6125112 , 16.6125112 , 16.6125112 ,\n",
       "       16.6125112 , 16.6125112 , 30.63415062, 30.63415062, 30.63415062,\n",
       "       30.63415062, 30.63415062, 30.63415062, 30.63415062, 30.63415062,\n",
       "       30.63415062, 30.63415062, 30.63415062, 30.63415062, 30.63415062,\n",
       "       30.63415062, 30.63415062, 30.63415062, 30.63415062, 30.63415062,\n",
       "       30.63415062, 30.63415062, 30.63415062, 30.63415062, 30.63415062,\n",
       "       30.63415062, 30.63415062, 30.63415062, 30.63415062, 30.63415062,\n",
       "       30.63415062, 30.63415062, 26.53551756, 26.53551756, 26.53551756,\n",
       "       26.53551756, 26.53551756, 26.53551756, 26.53551756, 23.9469072 ,\n",
       "       23.9469072 , 23.9469072 , 23.9469072 , 23.9469072 , 23.9469072 ,\n",
       "       23.9469072 , 23.9469072 , 29.55556297, 29.55556297, 29.55556297,\n",
       "       29.55556297, 29.55556297, 29.55556297, 28.69269286, 28.69269286,\n",
       "       31.28130321, 35.16421874, 35.16421874, 35.16421874, 25.67264744,\n",
       "       25.67264744, 30.63415062, 30.63415062, 30.63415062, 30.63415062,\n",
       "       22.22116697, 22.22116697, 22.22116697, 22.22116697, 22.22116697,\n",
       "       22.22116697, 22.22116697, 22.22116697, 22.22116697, 22.22116697,\n",
       "       22.22116697, 26.96695262, 26.96695262, 26.96695262, 26.96695262,\n",
       "       24.80977732, 24.80977732, 24.80977732, 24.80977732, 24.80977732,\n",
       "       24.80977732, 24.80977732, 24.80977732, 24.80977732, 24.80977732,\n",
       "       24.80977732, 24.80977732, 24.80977732, 24.80977732, 24.80977732,\n",
       "       24.80977732, 24.80977732, 24.80977732, 26.53551756, 26.53551756,\n",
       "       26.53551756, 26.53551756, 26.53551756, 26.53551756, 21.14257932,\n",
       "       21.14257932, 21.14257932, 21.14257932, 21.14257932, 21.14257932,\n",
       "       21.14257932, 21.14257932, 21.14257932, 21.14257932, 26.96695262,\n",
       "       26.96695262, 28.04554027, 34.30134863, 34.30134863, 34.30134863,\n",
       "       34.30134863, 34.30134863, 34.30134863, 34.30134863, 34.30134863,\n",
       "       34.30134863, 34.30134863, 34.30134863, 34.30134863, 22.22116697,\n",
       "       22.22116697, 22.22116697, 22.22116697, 22.22116697, 24.37834226,\n",
       "       24.37834226, 24.37834226, 24.37834226, 24.37834226, 30.20271556,\n",
       "       30.20271556, 30.20271556, 30.20271556, 33.00704345, 29.33984545,\n",
       "       29.33984545, 23.08403709, 26.53551756, 26.53551756, 26.53551756,\n",
       "       20.92686179, 20.92686179, 20.92686179, 27.82982274, 27.82982274,\n",
       "       27.82982274, 27.82982274, 27.82982274, 30.41843309, 30.41843309,\n",
       "       30.41843309, 27.61410521, 27.61410521, 27.61410521, 22.65260203,\n",
       "       22.65260203, 22.65260203, 22.65260203, 22.65260203, 22.65260203,\n",
       "       22.65260203, 22.65260203, 22.65260203, 22.65260203, 22.65260203,\n",
       "       22.65260203, 22.65260203, 22.65260203, 22.65260203, 22.65260203,\n",
       "       20.06399167, 20.06399167, 20.06399167, 20.06399167, 20.06399167,\n",
       "       20.06399167, 20.06399167, 20.06399167, 25.88836497, 25.88836497,\n",
       "       25.88836497, 25.88836497, 25.88836497, 18.76968649, 18.76968649,\n",
       "       18.76968649, 18.76968649, 18.76968649, 18.76968649, 18.76968649,\n",
       "       18.76968649, 28.90841039, 28.04554027, 24.37834226, 24.37834226,\n",
       "       21.78973191, 21.78973191, 23.73118968, 25.67264744, 19.84827414,\n",
       "       19.84827414, 22.86831956, 22.86831956, 25.67264744, 14.88677096,\n",
       "       14.88677096, 18.76968649, 18.76968649, 18.76968649, 18.76968649,\n",
       "       18.76968649, 18.76968649, 18.76968649, 18.76968649, 18.76968649,\n",
       "       18.76968649, 18.76968649, 18.76968649, 18.76968649, 18.76968649,\n",
       "       18.76968649, 18.76968649, 18.76968649, 18.76968649, 18.76968649,\n",
       "       18.76968649, 18.76968649, 18.76968649, 18.76968649, 18.76968649,\n",
       "       18.76968649, 18.76968649, 18.76968649, 18.76968649, 18.76968649,\n",
       "       18.76968649, 18.76968649, 18.76968649, 18.76968649, 18.76968649,\n",
       "       18.76968649, 18.76968649, 18.76968649, 18.76968649, 18.76968649,\n",
       "       18.76968649, 18.76968649, 18.76968649, 18.76968649, 18.76968649,\n",
       "       18.76968649, 18.76968649, 18.76968649, 18.76968649, 18.76968649,\n",
       "       18.76968649, 18.76968649, 18.76968649, 18.76968649, 18.76968649,\n",
       "       18.76968649, 18.76968649, 18.76968649, 18.76968649, 18.76968649,\n",
       "       18.76968649, 18.76968649, 18.76968649, 18.76968649, 18.76968649,\n",
       "       18.76968649, 18.76968649, 18.76968649, 18.76968649, 18.76968649,\n",
       "       18.76968649, 18.76968649, 18.76968649, 18.76968649, 18.76968649,\n",
       "       18.76968649, 18.76968649, 18.76968649, 18.76968649, 18.76968649,\n",
       "       18.76968649, 18.76968649, 18.76968649, 18.76968649, 18.76968649,\n",
       "       18.76968649, 18.76968649, 18.76968649, 18.76968649, 18.76968649,\n",
       "       18.76968649, 18.76968649, 18.76968649, 18.76968649, 18.76968649,\n",
       "       18.76968649, 18.76968649, 18.76968649, 18.76968649, 18.76968649,\n",
       "       18.76968649, 18.76968649, 18.76968649, 18.76968649, 18.76968649,\n",
       "       18.76968649, 18.76968649, 18.76968649, 18.76968649, 18.76968649,\n",
       "       18.76968649, 18.76968649, 18.76968649, 18.76968649, 18.76968649,\n",
       "       18.76968649, 18.76968649, 18.76968649, 18.76968649, 18.76968649,\n",
       "       18.76968649, 18.76968649, 18.76968649, 18.76968649, 18.76968649,\n",
       "       18.76968649, 18.76968649, 18.76968649, 18.76968649, 18.76968649,\n",
       "       18.76968649, 18.76968649, 18.76968649, 18.98540402, 18.98540402,\n",
       "       18.98540402, 18.98540402, 18.98540402, 20.92686179, 20.92686179,\n",
       "       20.92686179, 20.92686179, 20.92686179, 20.92686179, 20.92686179,\n",
       "       20.92686179, 17.04394626, 17.04394626, 17.04394626, 17.04394626,\n",
       "       17.04394626])"
      ]
     },
     "execution_count": 24,
     "metadata": {},
     "output_type": "execute_result"
    }
   ],
   "source": [
    "#with help of predict we are going to find our predicted values\n",
    "y_pred=lm.predict(X)\n",
    "y_pred\n"
   ]
  },
  {
   "cell_type": "code",
   "execution_count": 25,
   "metadata": {},
   "outputs": [
    {
     "data": {
      "text/plain": [
       "0.257847318009223"
      ]
     },
     "execution_count": 25,
     "metadata": {},
     "output_type": "execute_result"
    }
   ],
   "source": [
    "#r2_value--> to check the model performance\n",
    "from sklearn.metrics import r2_score\n",
    "r2_score(y,y_pred)\n"
   ]
  },
  {
   "cell_type": "code",
   "execution_count": 26,
   "metadata": {},
   "outputs": [
    {
     "data": {
      "image/png": "[encoded data removed]",
      "text/plain": [
       "<Figure size 432x288 with 1 Axes>"
      ]
     },
     "metadata": {},
     "output_type": "display_data"
    }
   ],
   "source": [
    "#observe the regression line\n",
    "with sns.axes_style('dark'):\n",
    "    sns.regplot(X,y)\n"
   ]
  },
  {
   "cell_type": "code",
   "execution_count": 27,
   "metadata": {},
   "outputs": [
    {
     "data": {
      "text/plain": [
       "Text(0, 0.5, 'MEDV O/P')"
      ]
     },
     "execution_count": 27,
     "metadata": {},
     "output_type": "execute_result"
    },
    {
     "data": {
      "image/png": "[encoded data removed]",
      "text/plain": [
       "<Figure size 432x288 with 1 Axes>"
      ]
     },
     "metadata": {
      "needs_background": "light"
     },
     "output_type": "display_data"
    }
   ],
   "source": [
    "# scatterplot(regression)\n",
    "#first we are making a scatter plot of original data(X and y)\n",
    "#we need to plot a line for the predicted values(X,y_pred)\n",
    "plt.scatter(X,y,color=\"red\")\n",
    "plt.plot(X,y_pred,color=\"black\")\n",
    "plt.xlabel(\"PTRATIO I/P\")\n",
    "plt.ylabel(\"MEDV O/P\")\n"
   ]
  },
  {
   "cell_type": "markdown",
   "metadata": {},
   "source": [
    "PTRATIO and MEDV have no correlation"
   ]
  },
  {
   "cell_type": "markdown",
   "metadata": {},
   "source": [
    "Consider AGE(proportion of owner-occupied units built prior to 1940) as input and build a SLR Model to predict the MEDV\n",
    "Find the correlation by plotting a scatter plot between those two variables and write down the observations like how the variable are related to each other"
   ]
  },
  {
   "cell_type": "code",
   "execution_count": 28,
   "metadata": {},
   "outputs": [],
   "source": [
    "X=boston_df[['AGE']]  #[[]]-->displays data as dataframe\n",
    "y=boston_df['MEDV']\n"
   ]
  },
  {
   "cell_type": "code",
   "execution_count": 29,
   "metadata": {},
   "outputs": [
    {
     "data": {
      "image/png": "[encoded data removed]",
      "text/plain": [
       "<Figure size 432x288 with 1 Axes>"
      ]
     },
     "metadata": {},
     "output_type": "display_data"
    }
   ],
   "source": [
    "with plt.style.context(\"grayscale\"):\n",
    "    plt.plot(X,y,'bo')\n",
    "    plt.xlabel(\"AGE I/P\")\n",
    "    plt.ylabel(\"MEDV O/P\")\n",
    "    plt.title(\"scatter plot\")\n"
   ]
  },
  {
   "cell_type": "code",
   "execution_count": 30,
   "metadata": {},
   "outputs": [
    {
     "data": {
      "text/plain": [
       "LinearRegression(copy_X=True, fit_intercept=True, n_jobs=None, normalize=False)"
      ]
     },
     "execution_count": 30,
     "metadata": {},
     "output_type": "execute_result"
    }
   ],
   "source": [
    "from sklearn.linear_model import LinearRegression\n",
    "lm= LinearRegression()\n",
    "lm.fit(X,y)\n"
   ]
  },
  {
   "cell_type": "code",
   "execution_count": 31,
   "metadata": {},
   "outputs": [
    {
     "name": "stdout",
     "output_type": "stream",
     "text": [
      "30.97867776261804\n",
      "[-0.12316272]\n"
     ]
    }
   ],
   "source": [
    "#print intercept and coefficient\n",
    "print(lm.intercept_)\n",
    "print(lm.coef_)\n"
   ]
  },
  {
   "cell_type": "code",
   "execution_count": 32,
   "metadata": {},
   "outputs": [
    {
     "data": {
      "text/plain": [
       "array([22.94846834, 21.26113906, 23.4534355 , 25.33782513, 24.30325827,\n",
       "       23.74902603, 22.77604053, 19.14274025, 18.66240564, 20.39900001,\n",
       "       19.36443315, 20.76848817, 26.17533163, 23.36722159, 20.57142782,\n",
       "       24.01998401, 27.37001003, 20.91628344, 26.47092217, 22.41886864,\n",
       "       18.89641481, 19.99256303, 19.68465623, 18.66240564, 19.38906569,\n",
       "       20.42363255, 19.85708404, 20.04182812, 19.35211688, 20.2265722 ,\n",
       "       19.38906569, 18.66240564, 20.87933462, 19.27821925, 19.04421007,\n",
       "       22.57898017, 23.41648668, 25.86742483, 27.25916358, 28.29373044,\n",
       "       29.03270677, 30.62150587, 30.1658038 , 30.17812007, 26.05216891,\n",
       "       26.81577778, 26.87735915, 20.4482651 , 19.24127043, 23.34258905,\n",
       "       25.3501414 , 23.21942632, 28.37994434, 28.34299553, 25.11613223,\n",
       "       28.28141417, 26.58176861, 25.99058755, 27.3823263 , 25.16539732,\n",
       "       22.82530562, 19.4752796 , 22.62824526, 25.63341566, 23.65049585,\n",
       "       28.78638132, 27.14831713, 28.34299553, 26.44628962, 26.91430796,\n",
       "       30.1658038 , 28.82333014, 30.01800854, 30.21506889, 30.23970144,\n",
       "       25.43635531, 21.80305503, 25.33782513, 24.36483963, 26.47092217,\n",
       "       26.8527266 , 22.30802219, 27.01283814, 25.22697868, 25.06686714,\n",
       "       24.0692491 , 25.42403903, 23.9830352 , 20.34973492, 23.20711005,\n",
       "       22.83762189, 21.87695266, 24.3771559 , 27.41927512, 21.45819941,\n",
       "       23.85987248, 22.40655236, 21.61831095, 26.43397335, 23.28100769,\n",
       "       21.13797634, 22.19717574, 20.46058137, 20.21425593, 19.89403285,\n",
       "       19.06884262, 19.66002368, 20.48521391, 19.01957753, 19.74623759,\n",
       "       24.27862573, 20.92859971, 19.53686096, 19.22895416, 20.60837663,\n",
       "       20.11572575, 22.04938047, 20.80543699, 21.97548284, 22.94846834,\n",
       "       22.39423609, 20.62069291, 19.53686096, 19.0318938 , 19.17968907,\n",
       "       20.09109321, 19.20432161, 19.15505652, 18.8102009 , 19.31516806,\n",
       "       18.79788463, 18.9456799 , 18.92104735, 19.22895416, 18.85946599,\n",
       "       18.88409854, 19.46296333, 18.85946599, 18.88409854, 18.92104735,\n",
       "       19.45064705, 18.66240564, 18.66240564, 18.66240564, 18.93336363,\n",
       "       18.66240564, 18.66240564, 19.19200534, 19.42601451, 19.29053552,\n",
       "       18.99494499, 18.66240564, 20.14035829, 18.84714972, 19.15505652,\n",
       "       20.80543699, 19.40138197, 18.98262871, 18.66240564, 18.66240564,\n",
       "       19.57380978, 19.79550267, 18.88409854, 19.41369824, 19.67233995,\n",
       "       19.52454469, 19.13042398, 21.22419024, 19.14274025, 19.2535867 ,\n",
       "       19.32748433, 18.99494499, 20.07877693, 20.62069291, 22.51739881,\n",
       "       26.90199169, 25.16539732, 21.93853402, 21.8153713 , 23.78597484,\n",
       "       20.71922308, 23.3179565 , 19.62307486, 19.20432161, 19.9186654 ,\n",
       "       22.50508254, 24.3771559 , 25.91668992, 27.39464257, 26.18764791,\n",
       "       28.33067926, 27.18526595, 27.73949819, 29.75936682, 28.6632186 ,\n",
       "       27.03747068, 26.77882897, 26.47092217, 26.26154554, 29.09428813,\n",
       "       29.26671594, 26.24922927, 29.04502304, 26.88967542, 27.04978696,\n",
       "       28.23214908, 24.5126349 , 22.02474793, 23.69976094, 18.66240564,\n",
       "       19.63539114, 20.06646066, 24.35252336, 27.00052187, 29.77168309,\n",
       "       25.75657838, 24.08156537, 20.49753019, 19.42601451, 19.59844232,\n",
       "       20.07877693, 19.73392131, 21.40893432, 21.02712989, 21.33503669,\n",
       "       20.7561719 , 20.32510238, 21.13797634, 28.8849115 , 28.34299553,\n",
       "       22.59129645, 21.5074645 , 21.9508503 , 22.30802219, 22.7883568 ,\n",
       "       23.40417041, 21.55672959, 22.16022692, 28.70016742, 25.78121093,\n",
       "       24.290942  , 22.96078461, 24.46336981, 30.01800854, 21.55672959,\n",
       "       22.33265473, 26.68029879, 21.22419024, 24.93138815, 28.82333014,\n",
       "       29.37756239, 29.88252954, 30.14117126, 29.9441109 , 27.03747068,\n",
       "       28.62626979, 26.7665127 , 20.27583729, 18.66240564, 18.66240564,\n",
       "       20.90396717, 19.96793048, 19.70928877, 19.33980061, 19.6969725 ,\n",
       "       23.24405887, 20.55911155, 22.72677544, 24.50031863, 23.40417041,\n",
       "       25.7935272 , 28.97112541, 23.74902603, 24.5988488 , 26.92662423,\n",
       "       25.70731329, 24.94370442, 27.57938666, 27.02515441, 27.01283814,\n",
       "       23.03468224, 26.39702453, 24.85749052, 27.92424228, 28.41689316,\n",
       "       27.04978696, 27.09905204, 27.12368459, 25.36245767, 28.15825145,\n",
       "       27.54243784, 27.56707038, 28.09667009, 28.71248369, 25.76889465,\n",
       "       27.14831713, 24.69737898, 23.83523993, 28.50310707, 29.74705055,\n",
       "       25.14076478, 26.00290382, 28.71248369, 28.7986976 , 25.91668992,\n",
       "       23.82292366, 22.12327811, 22.32033846, 20.81775326, 21.53209704,\n",
       "       26.3231269 , 24.47568608, 19.84476776, 20.78080444, 20.2265722 ,\n",
       "       21.40893432, 20.73153936, 22.14791065, 22.7021429 , 23.73670975,\n",
       "       24.53726744, 24.290942  , 24.83285797, 21.82768757, 26.03985264,\n",
       "       29.16818576, 27.41927512, 25.59646684, 27.80107955, 28.86027896,\n",
       "       27.01283814, 27.48085648, 28.10898636, 26.28617808, 26.236913  ,\n",
       "       26.72956388, 25.27624377, 23.63817958, 26.38470826, 25.38709022,\n",
       "       23.77365857, 24.90675561, 23.6258633 , 24.03230028, 27.5178053 ,\n",
       "       25.00528578, 24.53726744, 27.56707038, 27.32074494, 26.72956388,\n",
       "       25.51025294, 26.55713607, 28.70016742, 26.53250353, 28.28141417,\n",
       "       28.5770047 , 18.98262871, 19.77087013, 20.70690681, 20.96554853,\n",
       "       20.14035829, 19.75855386, 19.13042398, 20.01719557, 20.76848817,\n",
       "       20.15267457, 19.72160504, 18.66240564, 18.66240564, 19.05652635,\n",
       "       18.97031244, 18.66240564, 19.94329794, 18.66240564, 18.66240564,\n",
       "       18.92104735, 19.48759587, 18.8102009 , 19.13042398, 18.66240564,\n",
       "       19.66002368, 18.77325209, 18.66240564, 18.66240564, 19.74623759,\n",
       "       18.89641481, 18.66240564, 19.95561421, 18.66240564, 18.79788463,\n",
       "       19.0318938 , 20.81775326, 19.0318938 , 19.57380978, 19.31516806,\n",
       "       18.8102009 , 19.15505652, 18.79788463, 18.66240564, 21.39661805,\n",
       "       18.66240564, 18.66240564, 18.66240564, 19.15505652, 20.46058137,\n",
       "       18.66240564, 18.66240564, 18.66240564, 18.92104735, 18.66240564,\n",
       "       18.66240564, 18.66240564, 18.66240564, 18.66240564, 18.66240564,\n",
       "       18.66240564, 19.79550267, 20.0048793 , 18.66240564, 21.55672959,\n",
       "       18.66240564, 19.24127043, 20.18962338, 20.49753019, 22.28338964,\n",
       "       19.22895416, 23.6258633 , 21.2857716 , 21.35966923, 19.20432161,\n",
       "       20.37436746, 19.36443315, 21.76610621, 20.15267457, 19.27821925,\n",
       "       19.32748433, 19.48759587, 18.66240564, 20.15267457, 19.41369824,\n",
       "       19.59844232, 19.00726126, 18.66240564, 18.66240564, 19.08115889,\n",
       "       19.30285179, 19.10579144, 19.08115889, 18.82251718, 18.87178227,\n",
       "       19.57380978, 18.88409854, 19.67233995, 18.74861954, 19.38906569,\n",
       "       20.32510238, 20.15267457, 21.08871125, 20.669958  , 20.58374409,\n",
       "       19.89403285, 20.09109321, 20.7561719 , 19.90634912, 22.92383579,\n",
       "       25.0422346 , 20.54679527, 19.33980061, 22.23412455, 23.99535147,\n",
       "       20.63300918, 19.80781895, 21.74147367, 22.65287781, 19.22895416,\n",
       "       18.98262871, 19.45064705, 18.99494499, 19.06884262, 20.14035829,\n",
       "       23.0100497 , 21.75378994, 21.49514823, 26.0152201 , 25.81815974,\n",
       "       24.58653253, 21.15029261, 24.42642099, 19.5614935 , 18.87178227,\n",
       "       18.90873108, 18.8102009 , 20.69459054, 24.32789082, 25.73194584,\n",
       "       27.43159139, 22.00011538, 22.28338964, 22.93615207, 21.92621775,\n",
       "       21.16260888, 22.46813373, 21.53209704, 19.77087013, 19.98024676,\n",
       "       21.02712989])"
      ]
     },
     "execution_count": 32,
     "metadata": {},
     "output_type": "execute_result"
    }
   ],
   "source": [
    "#with help of predict we are going to find our predicted values\n",
    "y_pred=lm.predict(X)\n",
    "y_pred\n"
   ]
  },
  {
   "cell_type": "code",
   "execution_count": 33,
   "metadata": {},
   "outputs": [
    {
     "data": {
      "text/plain": [
       "0.14209474407780442"
      ]
     },
     "execution_count": 33,
     "metadata": {},
     "output_type": "execute_result"
    }
   ],
   "source": [
    "#r2_value--> to check the model performance\n",
    "from sklearn.metrics import r2_score\n",
    "r2_score(y,y_pred)\n"
   ]
  },
  {
   "cell_type": "code",
   "execution_count": 34,
   "metadata": {},
   "outputs": [
    {
     "data": {
      "image/png": "[encoded data removed]",
      "text/plain": [
       "<Figure size 432x288 with 1 Axes>"
      ]
     },
     "metadata": {},
     "output_type": "display_data"
    }
   ],
   "source": [
    "\n",
    "#observe the regression line\n",
    "with sns.axes_style('dark'):\n",
    "    sns.regplot(X,y)\n"
   ]
  },
  {
   "cell_type": "code",
   "execution_count": 35,
   "metadata": {},
   "outputs": [
    {
     "data": {
      "text/plain": [
       "Text(0, 0.5, 'MEDV O/P')"
      ]
     },
     "execution_count": 35,
     "metadata": {},
     "output_type": "execute_result"
    },
    {
     "data": {
      "image/png": "[encoded data removed]",
      "text/plain": [
       "<Figure size 432x288 with 1 Axes>"
      ]
     },
     "metadata": {
      "needs_background": "light"
     },
     "output_type": "display_data"
    }
   ],
   "source": [
    "\n",
    "# scatterplot(regression)\n",
    "#first we are making a scatter plot of original data(X and y)\n",
    "#we need to plot a line for the predicted values(X,y_pred)\n",
    "plt.scatter(X,y,color=\"red\")\n",
    "plt.plot(X,y_pred,color=\"black\")\n",
    "plt.xlabel(\"AGE I/P\")\n",
    "plt.ylabel(\"MEDV O/P\")\n"
   ]
  },
  {
   "cell_type": "markdown",
   "metadata": {},
   "source": [
    "AGE and MEDV have no correlation"
   ]
  },
  {
   "cell_type": "markdown",
   "metadata": {},
   "source": [
    "Split the dataset into training and testing\n",
    "Build the model on the training data and check the model’s performance with testing data"
   ]
  },
  {
   "cell_type": "code",
   "execution_count": 36,
   "metadata": {},
   "outputs": [],
   "source": [
    "X=boston_df[['AGE']]\n",
    "y=boston_df['MEDV']\n"
   ]
  },
  {
   "cell_type": "code",
   "execution_count": 37,
   "metadata": {},
   "outputs": [],
   "source": [
    "from sklearn.model_selection import train_test_split\n",
    "X_train,X_test,y_train,y_test=train_test_split(X,y,test_size=0.25,random_state=1)\n"
   ]
  },
  {
   "cell_type": "code",
   "execution_count": 38,
   "metadata": {},
   "outputs": [
    {
     "name": "stdout",
     "output_type": "stream",
     "text": [
      "(379, 1)\n",
      "(127, 1)\n",
      "(379,)\n",
      "(127,)\n"
     ]
    }
   ],
   "source": [
    "\n",
    "print(X_train.shape)\n",
    "print(X_test.shape)\n",
    "print(y_train.shape)\n",
    "print(y_test.shape)\n"
   ]
  },
  {
   "cell_type": "code",
   "execution_count": 39,
   "metadata": {},
   "outputs": [
    {
     "data": {
      "text/plain": [
       "LinearRegression(copy_X=True, fit_intercept=True, n_jobs=None, normalize=False)"
      ]
     },
     "execution_count": 39,
     "metadata": {},
     "output_type": "execute_result"
    }
   ],
   "source": [
    "from sklearn.linear_model import LinearRegression\n",
    "lm= LinearRegression()\n",
    "lm.fit(X_train,y_train)\n"
   ]
  },
  {
   "cell_type": "code",
   "execution_count": 40,
   "metadata": {},
   "outputs": [
    {
     "name": "stdout",
     "output_type": "stream",
     "text": [
      "31.59095687340382\n",
      "[-0.13448976]\n"
     ]
    }
   ],
   "source": [
    "#print intercept and coefficient\n",
    "print(lm.intercept_)\n",
    "print(lm.coef_)\n"
   ]
  },
  {
   "cell_type": "markdown",
   "metadata": {},
   "source": [
    "model predictions on training data"
   ]
  },
  {
   "cell_type": "code",
   "execution_count": 41,
   "metadata": {},
   "outputs": [
    {
     "data": {
      "text/plain": [
       "array([21.27559264, 19.68861353, 27.08555007, 27.11244802, 22.55324532,\n",
       "       27.70420295, 18.54545061, 22.1228781 , 26.06342793, 18.14198135,\n",
       "       19.76930739, 20.38796026, 19.23134836, 28.96840665, 18.42440983,\n",
       "       19.23134836, 29.1028964 , 27.8386927 , 26.89726441, 24.55714267,\n",
       "       18.881675  , 23.81744902, 19.09685861, 20.58969489, 18.14198135,\n",
       "       23.27949   , 19.02961373, 18.30336905, 28.65908021, 19.76930739,\n",
       "       23.69640824, 23.64261234, 21.3024906 , 26.6282849 , 20.44175616,\n",
       "       29.23738616, 18.7740832 , 19.80965431, 27.35452958, 27.86559065,\n",
       "       18.65304242, 18.67994037, 27.26038675, 19.50032787, 21.81355167,\n",
       "       19.64826661, 23.10465332, 23.96538775, 30.75712039, 26.06342793,\n",
       "       18.50510369, 19.3792871 , 27.15279495, 19.31204222, 21.65216396,\n",
       "       18.14198135, 26.66863183, 18.14198135, 19.70206251, 20.93936826,\n",
       "       24.62438755, 25.24304042, 22.21702093, 26.34585642, 19.95759304,\n",
       "       25.92893818, 18.42440983, 20.72418465, 20.24002153, 18.49165471,\n",
       "       23.72330619, 24.38230599, 19.5406748 , 18.14198135, 18.14198135,\n",
       "       27.24693778, 19.24479734, 24.55714267, 27.40832548, 19.98449099,\n",
       "       24.87991809, 18.45130778, 18.70683832, 22.35151069, 19.70206251,\n",
       "       27.44867241, 20.22657255, 25.95583613, 29.84259005, 18.54545061,\n",
       "       18.38406291, 20.61659284, 23.11810229, 24.61093858, 19.09685861,\n",
       "       20.0382869 , 22.24391888, 27.65040704, 24.96061194, 22.82222483,\n",
       "       18.14198135, 18.58579754, 27.87903963, 19.13720554, 19.12375656,\n",
       "       25.21614247, 22.43220454, 18.73373627, 30.70332449, 21.59836806,\n",
       "       26.99140724, 28.25561094, 27.52936626, 18.50510369, 19.76930739,\n",
       "       24.32851009, 18.96236885, 20.93936826, 27.16624393, 24.53024472,\n",
       "       21.3024906 , 27.677305  , 19.04306271, 19.00271578, 18.14198135,\n",
       "       25.83479535, 21.53112318, 18.67994037, 26.95106032, 19.76930739,\n",
       "       18.14198135, 23.77710209, 28.79356996, 27.77144782, 27.13934597,\n",
       "       19.60791968, 19.62136865, 28.71287611, 18.14198135, 29.30463103,\n",
       "       20.84522543, 18.42440983, 28.71287611, 20.84522543, 18.76063422,\n",
       "       19.58102173, 18.67994037, 30.39399805, 18.14198135, 29.39877386,\n",
       "       26.21136666, 24.43610189, 18.76063422, 18.14198135, 19.67516456,\n",
       "       18.53200164, 18.78753217, 26.66863183, 18.50510369, 25.13544862,\n",
       "       18.14198135, 20.56279694, 23.18534717, 19.16410349, 19.3792871 ,\n",
       "       21.14110289, 18.89512398, 27.38142753, 18.14198135, 28.64563123,\n",
       "       22.88946971, 21.23524572, 18.14198135, 18.7740832 , 18.14198135,\n",
       "       20.37451128, 18.81443012, 22.41875556, 25.75410149, 20.10553177,\n",
       "       26.50724412, 22.64738815, 27.71765192, 27.04520315, 29.21048821,\n",
       "       21.71940884, 19.16410349, 18.38406291, 24.73197935, 19.5944707 ,\n",
       "       24.98750989, 21.27559264, 29.53326362, 18.35716496, 18.9354709 ,\n",
       "       19.51377685, 28.59183533, 18.35716496, 30.24605932, 21.84044962,\n",
       "       24.35540804, 20.79142953, 18.81443012, 18.51855266, 21.24869469,\n",
       "       20.1458787 , 26.78967261, 20.1996746 , 18.14198135, 18.14198135,\n",
       "       18.96236885, 23.2256941 , 21.36973547, 20.26691948, 27.27383573,\n",
       "       21.75975576, 18.14198135, 18.86822603, 18.14198135, 25.18924452,\n",
       "       25.24304042, 25.71375457, 29.06254947, 26.43999925, 19.75585841,\n",
       "       21.50422523, 19.19100144, 18.14198135, 28.64563123, 19.83655226,\n",
       "       19.68861353, 18.28992008, 26.73587671, 26.574489  , 18.14198135,\n",
       "       22.68773507, 21.19489879, 30.2595083 , 19.00271578, 18.97581783,\n",
       "       29.47946772, 19.75585841, 23.57536746, 19.75585841, 18.90857295,\n",
       "       23.31983692, 22.23046991, 19.20445041, 24.28816316, 26.14412179,\n",
       "       26.15757076, 18.14198135, 20.65693977, 23.3332859 , 18.23612418,\n",
       "       18.39751188, 18.84132807, 28.45734558, 25.53891789, 29.72154928,\n",
       "       25.43132608, 18.881675  , 21.70595986, 18.8278791 , 18.59924651,\n",
       "       23.37363283, 28.75322304, 19.28514427, 30.46124293, 20.42830719,\n",
       "       18.14198135, 26.4668972 , 18.57234856, 24.28816316, 18.73373627,\n",
       "       18.14198135, 20.33416436, 29.11634538, 28.69942714, 30.78401834,\n",
       "       27.59661114, 30.54193678, 18.37061393, 23.95193877, 25.9154892 ,\n",
       "       18.14198135, 20.1458787 , 20.21312358, 25.45822403, 19.01616476,\n",
       "       18.65304242, 25.3102853 , 21.78665371, 20.48210309, 18.49165471,\n",
       "       18.26302213, 27.26038675, 18.73373627, 27.2872847 , 23.14500024,\n",
       "       25.10855067, 19.4868789 , 18.34371598, 24.90681604, 20.49555206,\n",
       "       19.95759304, 18.14198135, 20.06518485, 27.00485622, 23.58881644,\n",
       "       23.9922857 , 23.79055107, 18.14198135, 19.32549119, 25.3640812 ,\n",
       "       20.49555206, 19.44653197, 21.57147011, 30.71677346, 22.91636766,\n",
       "       25.43132608, 22.79532688, 23.25259205, 18.14198135, 19.55412378,\n",
       "       20.36106231, 18.9354709 , 20.28036846, 18.90857295, 19.72896046,\n",
       "       20.29381743, 24.05953058, 19.27169529, 18.14198135, 20.40140924,\n",
       "       19.32549119, 20.97971518, 20.45520514, 19.25824632, 21.94804142,\n",
       "       23.68295926, 18.66649139, 20.87212338, 18.14198135, 25.52546891,\n",
       "       29.1028964 , 22.83567381, 19.39273607, 25.88859125, 26.64173388,\n",
       "       25.44477506, 18.14198135, 18.14198135, 18.94891988, 30.67642654,\n",
       "       18.30336905, 22.04218425, 18.14198135, 19.35238914, 27.2872847 ,\n",
       "       25.00095887, 21.58491908, 26.58793798, 18.54545061, 21.9614904 ,\n",
       "       29.23738616, 19.4868789 , 18.85477705, 18.43785881, 18.31681803,\n",
       "       26.95106032, 18.76063422, 27.125897  , 19.13720554, 29.02220255,\n",
       "       30.54193678, 18.67994037, 23.31983692, 26.00963203])"
      ]
     },
     "execution_count": 41,
     "metadata": {},
     "output_type": "execute_result"
    }
   ],
   "source": [
    "#with help of predict we are going to find our predicted values\n",
    "y_pred=lm.predict(X_train)\n",
    "y_pred\n"
   ]
  },
  {
   "cell_type": "code",
   "execution_count": 42,
   "metadata": {},
   "outputs": [
    {
     "name": "stdout",
     "output_type": "stream",
     "text": [
      "r^2: 0.18172283681454027\n",
      "MAE: 5.601245374555989\n",
      "MSE: 64.94913359358577\n"
     ]
    }
   ],
   "source": [
    "#r2_value--> to check the model performance\n",
    "from sklearn.metrics import r2_score,mean_absolute_error,mean_squared_error\n",
    "print('r^2:',r2_score(y_train,y_pred))\n",
    "print('MAE:',mean_absolute_error(y_train,y_pred))\n",
    "print('MSE:',mean_squared_error(y_train,y_pred))\n"
   ]
  },
  {
   "cell_type": "code",
   "execution_count": 43,
   "metadata": {},
   "outputs": [
    {
     "data": {
      "text/plain": [
       "<matplotlib.axes._subplots.AxesSubplot at 0x27071103e88>"
      ]
     },
     "execution_count": 43,
     "metadata": {},
     "output_type": "execute_result"
    },
    {
     "data": {
      "image/png": "[encoded data removed]",
      "text/plain": [
       "<Figure size 432x288 with 1 Axes>"
      ]
     },
     "metadata": {
      "needs_background": "light"
     },
     "output_type": "display_data"
    }
   ],
   "source": [
    "sns.regplot(y_train,y_pred)\n"
   ]
  },
  {
   "cell_type": "markdown",
   "metadata": {},
   "source": [
    "model prediction on test data¶\n"
   ]
  },
  {
   "cell_type": "code",
   "execution_count": 44,
   "metadata": {},
   "outputs": [
    {
     "data": {
      "text/plain": [
       "array([22.13632708, 24.00573468, 20.0920828 , 28.71287611, 18.65304242,\n",
       "       18.42440983, 28.4438966 , 18.14198135, 18.97581783, 22.70118405,\n",
       "       21.5176742 , 27.81179475, 22.82222483, 27.40832548, 19.433083  ,\n",
       "       18.14198135, 19.04306271, 20.42830719, 26.42655027, 18.72028729,\n",
       "       21.14110289, 18.14198135, 19.85000124, 26.19791769, 29.19703923,\n",
       "       18.76063422, 18.55889959, 25.06820374, 19.56757275, 18.28992008,\n",
       "       26.76277466, 22.14977605, 27.30073368, 18.59924651, 27.26038675,\n",
       "       25.8616933 , 18.62614447, 24.30161214, 18.14198135, 20.8586744 ,\n",
       "       29.27773308, 26.4131013 , 20.72418465, 18.49165471, 18.58579754,\n",
       "       21.3024906 , 18.38406291, 18.85477705, 19.08340963, 20.10553177,\n",
       "       22.49944942, 24.47644882, 23.69640824, 18.66649139, 18.41096086,\n",
       "       22.47255147, 21.12765391, 24.4898978 , 20.60314387, 22.1228781 ,\n",
       "       18.14198135, 24.0460816 , 18.28992008, 20.01138894, 30.27295727,\n",
       "       23.73675517, 21.73285781, 23.56191848, 25.90204023, 19.24479734,\n",
       "       27.70420295, 18.14198135, 19.29859324, 19.85000124, 20.13242972,\n",
       "       26.17101974, 18.47820573, 27.30073368, 18.14198135, 27.86559065,\n",
       "       18.30336905, 20.48210309, 26.35930539, 18.86822603, 25.61961174,\n",
       "       28.88771279, 18.37061393, 29.61395747, 22.09598015, 18.38406291,\n",
       "       19.35238914, 19.90379714, 18.30336905, 22.63393917, 21.00661313,\n",
       "       20.44175616, 22.29771478, 24.38230599, 21.06040904, 24.27471419,\n",
       "       23.56191848, 18.14198135, 30.70332449, 27.66385602, 18.39751188,\n",
       "       24.36885702, 22.09598015, 19.13720554, 22.33806171, 22.00183732,\n",
       "       24.51679575, 20.28036846, 21.08730699, 21.92114347, 18.14198135,\n",
       "       28.05387631, 25.48512198, 26.66863183, 29.46601874, 22.58014327,\n",
       "       28.12112119, 18.9354709 , 31.20093658, 19.33894017, 28.51114148,\n",
       "       22.80877585, 29.11634538])"
      ]
     },
     "execution_count": 44,
     "metadata": {},
     "output_type": "execute_result"
    }
   ],
   "source": [
    "y_test_pred=lm.predict(X_test)\n",
    "y_test_pred\n"
   ]
  },
  {
   "cell_type": "code",
   "execution_count": 45,
   "metadata": {},
   "outputs": [
    {
     "name": "stdout",
     "output_type": "stream",
     "text": [
      "r^2: 0.03851912234146737\n",
      "MAE: 6.946321654551973\n",
      "MSE: 95.24282809504805\n"
     ]
    }
   ],
   "source": [
    "\n",
    "from sklearn.metrics import r2_score,mean_absolute_error,mean_squared_error\n",
    "print('r^2:',r2_score(y_test,y_test_pred))\n",
    "print('MAE:',mean_absolute_error(y_test,y_test_pred))\n",
    "print('MSE:',mean_squared_error(y_test,y_test_pred))\n"
   ]
  },
  {
   "cell_type": "code",
   "execution_count": 46,
   "metadata": {},
   "outputs": [
    {
     "data": {
      "text/plain": [
       "<matplotlib.axes._subplots.AxesSubplot at 0x2707115d448>"
      ]
     },
     "execution_count": 46,
     "metadata": {},
     "output_type": "execute_result"
    },
    {
     "data": {
      "image/png": "[encoded data removed]",
      "text/plain": [
       "<Figure size 432x288 with 1 Axes>"
      ]
     },
     "metadata": {
      "needs_background": "light"
     },
     "output_type": "display_data"
    }
   ],
   "source": [
    "\n",
    "sns.regplot(y_test,y_test_pred)\n"
   ]
  },
  {
   "cell_type": "markdown",
   "metadata": {},
   "source": [
    "\n",
    "Find the r2_score for all the models and try to compare the scores, which input is showing more effect on the output variable.\n",
    "r2_value of LSTAT and MEDV = 0.5441462975864799 \\ r2_value of PTRATIO and MEDV = 0.257847318009223 \\ r2_value of AGE and MEDV = 0.14209474407780442 \\ input LSTAT has more effect on the output variable MEDV as compared to PTRATIO and AGE"
   ]
  }
 ],
 "metadata": {
  "kernelspec": {
   "display_name": "Python 3",
   "language": "python",
   "name": "python3"
  },
  "language_info": {
   "codemirror_mode": {
    "name": "ipython",
    "version": 3
   },
   "file_extension": ".py",
   "mimetype": "text/x-python",
   "name": "python",
   "nbconvert_exporter": "python",
   "pygments_lexer": "ipython3",
   "version": "3.7.4"
  }
 },
 "nbformat": 4,
 "nbformat_minor": 2
}
