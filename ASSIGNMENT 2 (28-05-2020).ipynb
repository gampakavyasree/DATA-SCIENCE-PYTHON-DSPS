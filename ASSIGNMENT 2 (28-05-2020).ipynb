{
 "cells": [
  {
   "cell_type": "markdown",
   "metadata": {},
   "source": [
    "# CSE-221710306018-KAVYASREEGAMPA"
   ]
  },
  {
   "cell_type": "code",
   "execution_count": 12,
   "metadata": {},
   "outputs": [
    {
     "name": "stdout",
     "output_type": "stream",
     "text": [
      "Vowels: 5\n",
      "Consonant: 8\n",
      "Digit: 3\n",
      "Special Character: 2\n"
     ]
    }
   ],
   "source": [
    "## Accept a string from the user and count no.of vowels,consonants and special characters\n",
    "\n",
    "def countCharacterType(str): \n",
    "\n",
    "\tvowels = 0\n",
    "\tconsonant = 0\n",
    "\tspecialChar = 0\n",
    "\tdigit = 0\n",
    " \n",
    "\tfor i in range(0, len(str)): \n",
    "\t\t\n",
    "\t\tch = str[i] \n",
    "\n",
    "\t\tif ( (ch >= 'a' and ch <= 'z') or\n",
    "\t\t\t(ch >= 'A' and ch <= 'Z') ): \n",
    "\n",
    "\t\t\t# To handle upper case letters \n",
    "\t\t\tch = ch.lower() \n",
    "\n",
    "\t\t\tif (ch == 'a' or ch == 'e' or ch == 'i'\n",
    "\t\t\t\t\t\tor ch == 'o' or ch == 'u'): \n",
    "\t\t\t\tvowels += 1\n",
    "\t\t\telse: \n",
    "\t\t\t\tconsonant += 1\n",
    "\t\t\n",
    "\t\telif (ch >= '0' and ch <= '9'): \n",
    "\t\t\tdigit += 1\n",
    "\t\telse: \n",
    "\t\t\tspecialChar += 1\n",
    "\tprint(\"Vowels:\", vowels) \n",
    "\tprint(\"Consonant:\", consonant) \n",
    "\tprint(\"Digit:\", digit) \n",
    "\tprint(\"Special Character:\", specialChar) \n",
    "\n",
    "\n",
    "str = \"geeks for geeks121\"\n",
    "countCharacterType(str) \n",
    "\n",
    "\n"
   ]
  },
  {
   "cell_type": "code",
   "execution_count": 13,
   "metadata": {},
   "outputs": [
    {
     "name": "stdout",
     "output_type": "stream",
     "text": [
      "the count of a is 2\n"
     ]
    }
   ],
   "source": [
    "##count the no.of pairs of a in the given string(Infosys InfyTQ)\n",
    "   ## string →  \"abbaaccbbaaa\"\n",
    "   ## output →  2\n",
    "\n",
    "string = \"abbaaccbbaaa\"\n",
    "count = string.count(\"aa\")\n",
    "print('the count of a is',count)"
   ]
  },
  {
   "cell_type": "code",
   "execution_count": 14,
   "metadata": {},
   "outputs": [
    {
     "name": "stdout",
     "output_type": "stream",
     "text": [
      "the count of () is 8\n"
     ]
    }
   ],
   "source": [
    " ## Test case1:\n",
    "       ## string →  \"((((()()()))))()\"\n",
    "       ## output →  8\n",
    "## Test case2:\n",
    "      ##  string →  \"((()))()\"\n",
    "      ##  Output →  4\n",
    "\n",
    "string = \"((((()()()))))()\"\n",
    "count = string.count('(')\n",
    "print('the count of () is',count)"
   ]
  },
  {
   "cell_type": "code",
   "execution_count": 16,
   "metadata": {},
   "outputs": [
    {
     "name": "stdout",
     "output_type": "stream",
     "text": [
      "the count of () is 4\n"
     ]
    }
   ],
   "source": [
    " ## Test case1:\n",
    "       ## string →  \"((((()()()))))()\"\n",
    "       ## output →  8\n",
    "## Test case2:\n",
    "      ##  string →  \"((()))()\"\n",
    "      ##  Output →  4\n",
    "\n",
    "string = \"((()))()\"\n",
    "count = string.count('(')\n",
    "print('the count of () is',count)"
   ]
  },
  {
   "cell_type": "code",
   "execution_count": 1,
   "metadata": {},
   "outputs": [
    {
     "name": "stdout",
     "output_type": "stream",
     "text": [
      "Please Enter the Maximum Value : 10\n",
      "9\n"
     ]
    }
   ],
   "source": [
    "##Read the input as two limits and Print the output as Palindrome count between the two limits\n",
    "##Example #1; Input : 1 10 Output : 9\n",
    "## Example #2: Input : 1 100 Output : 18\n",
    "\n",
    "#palindome count in given range\n",
    "maximum = int(input(\"Please Enter the Maximum Value : \"))\n",
    "count = 0\n",
    "for num in range(1, maximum + 1):\n",
    "    temp = num\n",
    "    reverse = 0\n",
    "    \n",
    "    while(temp > 0):\n",
    "        Reminder = temp % 10\n",
    "        reverse =  (reverse * 10) + Reminder\n",
    "        temp = temp //10\n",
    "    if(num == reverse):\n",
    "        count=count+1\n",
    "print(count)"
   ]
  },
  {
   "cell_type": "code",
   "execution_count": 2,
   "metadata": {},
   "outputs": [
    {
     "name": "stdout",
     "output_type": "stream",
     "text": [
      "Please Enter the Maximum Value : 100\n",
      "18\n"
     ]
    }
   ],
   "source": [
    "##Read the input as two limits and Print the output as Palindrome count between the two limits\n",
    "##Example #1; Input : 1 10 Output : 9\n",
    "## Example #2: Input : 1 100 Output : 18\n",
    "\n",
    "#palindome count in given range\n",
    "maximum = int(input(\"Please Enter the Maximum Value : \"))\n",
    "count = 0\n",
    "for num in range(1, maximum + 1):\n",
    "    temp = num\n",
    "    reverse = 0\n",
    "    \n",
    "    while(temp > 0):\n",
    "        Reminder = temp % 10\n",
    "        reverse =  (reverse * 10) + Reminder\n",
    "        temp = temp //10\n",
    "    if(num == reverse):\n",
    "        count=count+1\n",
    "print(count)"
   ]
  },
  {
   "cell_type": "code",
   "execution_count": 3,
   "metadata": {},
   "outputs": [
    {
     "name": "stdout",
     "output_type": "stream",
     "text": [
      "848\n",
      "848\n"
     ]
    }
   ],
   "source": [
    "## Accept a number as an input and check whether the given number is palindrome or not\n",
    "##if it is a palindrome number print the number on the screen\n",
    "##if it is not a palindrome number reverse that number and add it to previous number repeat this until will get a palindrome number and print that palindrome number on the screen\n",
    "##input: 127\n",
    "##output: 848\n",
    "\n",
    "def rev_number(n):\n",
    "  s = 0\n",
    "  while True:\n",
    "    k = str(n)\n",
    "    if k == k[::-1]:\n",
    "        break\n",
    "    else:\n",
    "      m = int(k[::-1])\n",
    "      n += m\n",
    "      s += 1\n",
    "    return n \n",
    "\n",
    "print(rev_number(127))\n",
    "print(rev_number(721))"
   ]
  },
  {
   "cell_type": "code",
   "execution_count": 17,
   "metadata": {},
   "outputs": [
    {
     "name": "stdout",
     "output_type": "stream",
     "text": [
      "p u b o i f "
     ]
    }
   ],
   "source": [
    "##input:orange  →   output : puboif\n",
    "\n",
    "def replaceCharacterType(str): \n",
    "    vowel = False\n",
    "    consonant = False\n",
    "    for i in range(0, len(str)):           \n",
    "        ch = str[i]    \n",
    "        if ( (ch >= 'a' and ch <= 'z') or \n",
    "             (ch >= 'A' and ch <= 'Z') ):  \n",
    "            if(isVowel(ch)):\n",
    "                vowel = True\n",
    "            else:\n",
    "                consonant = True\n",
    "            if (vowel == True): \n",
    "                print(chr(ord(ch) + 1), end =\" \")\n",
    "                vowel = False\n",
    "            else: \n",
    "                i=1\n",
    "                while True:\n",
    "                    tmp = chr(ord(ch)+i)\n",
    "                    if (isVowel(tmp)):\n",
    "                        print(tmp, end =\" \")\n",
    "                        break\n",
    "                    else:\n",
    "                        i +=1\n",
    "\n",
    "def isVowel(ch):\n",
    "    ch = ch.lower()   \n",
    "    if (ch == 'a' or ch == 'e' or ch == 'i' \n",
    "            or ch == 'o' or ch == 'u'):\n",
    "                return True\n",
    "    else:\n",
    "        return False\n",
    "str = \"orange\"\n",
    "replaceCharacterType(str)\n"
   ]
  },
  {
   "cell_type": "code",
   "execution_count": 11,
   "metadata": {},
   "outputs": [
    {
     "name": "stdout",
     "output_type": "stream",
     "text": [
      "21\n"
     ]
    }
   ],
   "source": [
    "##Accept input as a string and display sum of digits as the output \n",
    "##input:Appli123cation456 \n",
    "##Output: 21\n",
    "\n",
    "def sum_digits_string(str1):\n",
    "    sum_digit = 0\n",
    "    for x in str1:\n",
    "        if x.isdigit() == True:\n",
    "            z = int(x)\n",
    "            sum_digit = sum_digit + z\n",
    "\n",
    "    return sum_digit\n",
    "     \n",
    "print(sum_digits_string(\"Appli123cation456\"))\n"
   ]
  },
  {
   "cell_type": "code",
   "execution_count": 10,
   "metadata": {},
   "outputs": [
    {
     "name": "stdout",
     "output_type": "stream",
     "text": [
      "Enter Score: 0.85\n",
      "B\n"
     ]
    }
   ],
   "source": [
    "##Write a program to prompt for a score between 0.0 and 1.0. If the score is out of range, print an error. If the score is between 0.0 and 1.0, print a grade using the following table:\n",
    "##Score Grade\n",
    "##>= 0.9 A\n",
    "##>= 0.8 B\n",
    "##>= 0.7 C\n",
    "##>= 0.6 D\n",
    "##< 0.6 F\n",
    "##If the user enters a value out of range, print a suitable error message and exit. For the test, enter a score of 0.85\n",
    "\n",
    "score = input(\"Enter Score: \")\n",
    "s =  float(score)\n",
    "x = 'Error'\n",
    "if s >= 0.9:\n",
    "\tx = 'A'\n",
    "elif s >=0.8:\n",
    "\tx='B'\n",
    "elif s >=0.7:\n",
    "\tx='C'\n",
    "elif s >= 0.6:\n",
    "\tx='D'\n",
    "elif s < .6:\n",
    "\tx ='F'\n",
    "else:\n",
    "\tx =\"Out of Range\"\n",
    "print (x)\n"
   ]
  },
  {
   "cell_type": "code",
   "execution_count": 9,
   "metadata": {},
   "outputs": [
    {
     "name": "stdout",
     "output_type": "stream",
     "text": [
      "fizzbuzz\n",
      "1\n",
      "2\n",
      "fizz\n",
      "4\n",
      "buzz\n",
      "fizz\n",
      "7\n",
      "8\n",
      "fizz\n",
      "buzz\n",
      "11\n",
      "fizz\n",
      "13\n",
      "14\n",
      "fizzbuzz\n",
      "16\n",
      "17\n",
      "fizz\n",
      "19\n",
      "buzz\n",
      "fizz\n",
      "22\n",
      "23\n",
      "fizz\n",
      "buzz\n",
      "26\n",
      "fizz\n",
      "28\n",
      "29\n",
      "fizzbuzz\n",
      "31\n",
      "32\n",
      "fizz\n",
      "34\n",
      "buzz\n",
      "fizz\n",
      "37\n",
      "38\n",
      "fizz\n",
      "buzz\n",
      "41\n",
      "fizz\n",
      "43\n",
      "44\n",
      "fizzbuzz\n",
      "46\n",
      "47\n",
      "fizz\n",
      "49\n",
      "buzz\n"
     ]
    }
   ],
   "source": [
    "##Write a Python program which iterates the integers from 1 to 50. For multiples of three print \"Fizz\" instead of the number and for the multiples of five print \"Buzz\". For numbers which are multiples of both three and five print \"FizzBuzz\".\n",
    "##Sample Output :\n",
    "##fizzbuzz\n",
    "##1\n",
    "##2\n",
    "##fizz\n",
    "##4\n",
    "##buzz\n",
    "\n",
    "for fizzbuzz in range(51):\n",
    "    if fizzbuzz % 3 == 0 and fizzbuzz % 5 == 0:\n",
    "        print(\"fizzbuzz\")\n",
    "        continue\n",
    "    elif fizzbuzz % 3 == 0:\n",
    "        print(\"fizz\")\n",
    "        continue\n",
    "    elif fizzbuzz % 5 == 0:\n",
    "        print(\"buzz\")\n",
    "        continue\n",
    "    print(fizzbuzz)"
   ]
  },
  {
   "cell_type": "code",
   "execution_count": 8,
   "metadata": {},
   "outputs": [
    {
     "name": "stdout",
     "output_type": "stream",
     "text": [
      "Input the first number26\n",
      "Input the second number15\n",
      "Input the third number29\n",
      "Median of the above three numbers -\n",
      "26\n"
     ]
    }
   ],
   "source": [
    "##Write a Python program to find the median of three values.\n",
    "##Expected Output:\n",
    "##Input first number: 26                                            \n",
    "##Input second number: 15                                                \n",
    "##Input third number: 29                                                  \n",
    "##The median is 26\n",
    "\n",
    "x = input(\"Input the first number\")\n",
    "y = input(\"Input the second number\")\n",
    "z = input(\"Input the third number\")\n",
    "print(\"Median of the above three numbers -\")\n",
    "\n",
    "if y < x and x < z:\n",
    "    print(x)\n",
    "elif z < x and x < y:\n",
    "    print(x)\n",
    "    \n",
    "elif z < y and y < x:\n",
    "    print(y)\n",
    "elif x < y and y < z:\n",
    "    print(y)\n",
    "    \n",
    "elif y < z and z < x:\n",
    "    print(z)    \n",
    "elif x < z and z < y:\n",
    "    print(z)"
   ]
  },
  {
   "cell_type": "code",
   "execution_count": null,
   "metadata": {},
   "outputs": [],
   "source": []
  }
 ],
 "metadata": {
  "kernelspec": {
   "display_name": "Python 3",
   "language": "python",
   "name": "python3"
  },
  "language_info": {
   "codemirror_mode": {
    "name": "ipython",
    "version": 3
   },
   "file_extension": ".py",
   "mimetype": "text/x-python",
   "name": "python",
   "nbconvert_exporter": "python",
   "pygments_lexer": "ipython3",
   "version": "3.7.4"
  }
 },
 "nbformat": 4,
 "nbformat_minor": 2
}
