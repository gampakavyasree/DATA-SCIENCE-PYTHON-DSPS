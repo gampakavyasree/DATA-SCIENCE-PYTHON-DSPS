{
 "cells": [
  {
   "cell_type": "markdown",
   "metadata": {},
   "source": [
    "#CSE-221710306018-KAVYASREEGAMPA"
   ]
  },
  {
   "cell_type": "code",
   "execution_count": 1,
   "metadata": {},
   "outputs": [
    {
     "name": "stdout",
     "output_type": "stream",
     "text": [
      "enter n5\n",
      "120\n"
     ]
    }
   ],
   "source": [
    "#1 question\n",
    "def fact(n):\n",
    "    if n==1:\n",
    "        return 1\n",
    "    else:\n",
    "        return n*fact(n-1)\n",
    "n=int(input(\"enter n\"))\n",
    "print(fact(n))"
   ]
  },
  {
   "cell_type": "code",
   "execution_count": 2,
   "metadata": {},
   "outputs": [
    {
     "name": "stdout",
     "output_type": "stream",
     "text": [
      "enter n:8\n",
      "0\n",
      "1\n",
      "1\n",
      "2\n",
      "3\n",
      "5\n",
      "8\n",
      "13\n"
     ]
    }
   ],
   "source": [
    "#2 question\n",
    "def fib(n):\n",
    "    if n<=1:\n",
    "        return n\n",
    "    else:\n",
    "        return fib(n-1)+fib(n-2)\n",
    "n=int(input(\"enter n:\"))\n",
    "for i in range(n):\n",
    "    print(fib(i))"
   ]
  },
  {
   "cell_type": "code",
   "execution_count": 3,
   "metadata": {},
   "outputs": [
    {
     "name": "stdout",
     "output_type": "stream",
     "text": [
      "enter size6\n",
      "7\n",
      "6\n",
      "4\n",
      "5\n",
      "8\n",
      "2\n",
      "sum= 32\n"
     ]
    }
   ],
   "source": [
    "#3question\n",
    "list1=[]\n",
    "n=int(input(\"enter size\"))\n",
    "for i in range(0,n):\n",
    "    item=int(input())\n",
    "    list1.append(item)\n",
    "sum=0\n",
    "for i in range(0,n):\n",
    "    sum=sum+list1[i]\n",
    "print(\"sum=\",sum)"
   ]
  },
  {
   "cell_type": "code",
   "execution_count": 4,
   "metadata": {},
   "outputs": [
    {
     "name": "stdout",
     "output_type": "stream",
     "text": [
      "enter size6\n",
      "1\n",
      "2\n",
      "3\n",
      "4\n",
      "5\n",
      "6\n",
      " \n",
      "2\n",
      "4\n",
      "6\n"
     ]
    }
   ],
   "source": [
    "#4 question\n",
    "list1=[]\n",
    "n=int(input(\"enter size\"))\n",
    "for i in range(0,n):\n",
    "    item=int(input())\n",
    "    list1.append(item)\n",
    "print(\" \")\n",
    "for i in range(0,n):\n",
    "    if(list1[i]%2==0):\n",
    "        print(list1[i])\n",
    "    else:\n",
    "        continue"
   ]
  },
  {
   "cell_type": "code",
   "execution_count": 5,
   "metadata": {},
   "outputs": [
    {
     "name": "stdout",
     "output_type": "stream",
     "text": [
      "enter size6\n",
      "4\n",
      "7\n",
      "6\n",
      "2\n",
      "9\n",
      "6\n",
      "[4, 7, 6, 2, 9, 6]\n",
      "min= 2\n",
      "min value index= 4\n"
     ]
    }
   ],
   "source": [
    "#5 question\n",
    "list1=[]\n",
    "n=int(input(\"enter size\"))\n",
    "for i in range(0,n):\n",
    "    item=int(input())\n",
    "    list1.append(item)\n",
    "print(list1)\n",
    "print(\"min=\",min(list1))\n",
    "print(\"min value index=\",list1.index(min(list1))+1)"
   ]
  },
  {
   "cell_type": "code",
   "execution_count": 6,
   "metadata": {},
   "outputs": [
    {
     "name": "stdout",
     "output_type": "stream",
     "text": [
      "enter string:madam\n",
      "Palindrome\n"
     ]
    }
   ],
   "source": [
    "#6 question\n",
    "def isPalindrome(str): \n",
    "    for i in range(0, int(len(str)/2)):  \n",
    "        if str[i] != str[len(str)-i-1]: \n",
    "            return False\n",
    "    return True\n",
    "  \n",
    "s = input(\"enter string:\")\n",
    "ans = isPalindrome(s) \n",
    "  \n",
    "if (ans): \n",
    "    print(\"Palindrome\") \n",
    "else: \n",
    "    print(\"Not a Palindrome\")"
   ]
  },
  {
   "cell_type": "code",
   "execution_count": 7,
   "metadata": {},
   "outputs": [
    {
     "name": "stdout",
     "output_type": "stream",
     "text": [
      "Number of even numbers : 5\n",
      "Number of odd numbers : 4\n"
     ]
    }
   ],
   "source": [
    "#7 question\n",
    "numbers = (1, 2, 3, 4, 5, 6, 7, 8, 9) # Declaring the tuple\n",
    "count_odd = 0\n",
    "count_even = 0\n",
    "for x in numbers:\n",
    "        if not x % 2:\n",
    "    \t     count_odd+=1\n",
    "        else:\n",
    "    \t     count_even+=1\n",
    "print(\"Number of even numbers :\",count_even)\n",
    "print(\"Number of odd numbers :\",count_odd)"
   ]
  },
  {
   "cell_type": "code",
   "execution_count": 8,
   "metadata": {},
   "outputs": [
    {
     "name": "stdout",
     "output_type": "stream",
     "text": [
      "0 1 2 4 5 \n",
      "\n"
     ]
    }
   ],
   "source": [
    "#8 question\n",
    "for x in range(6):\n",
    "    if (x == 3 or x==6):\n",
    "        continue\n",
    "    print(x,end=' ')\n",
    "print(\"\\n\")"
   ]
  },
  {
   "cell_type": "code",
   "execution_count": 9,
   "metadata": {},
   "outputs": [
    {
     "name": "stdout",
     "output_type": "stream",
     "text": [
      "enter n:11\n",
      "Prime number\n"
     ]
    }
   ],
   "source": [
    "#9 question\n",
    "def prime(n):\n",
    "    count=0\n",
    "    for i in range(1,n+1):\n",
    "        if(n%i==0):\n",
    "            count=count+1\n",
    "        else:\n",
    "            continue\n",
    "    if(count>2):\n",
    "        print(\"Not prime\")\n",
    "    else:\n",
    "        print(\"Prime number\")\n",
    "n=int(input(\"enter n:\"))\n",
    "prime(n)"
   ]
  },
  {
   "cell_type": "code",
   "execution_count": 10,
   "metadata": {},
   "outputs": [
    {
     "name": "stdout",
     "output_type": "stream",
     "text": [
      "12\n",
      "adam number\n"
     ]
    }
   ],
   "source": [
    "#10 question\n",
    "def adam(number):\n",
    "    reverse=number[::-1]\n",
    "    number_sqr=int(number)**2\n",
    "    reverse_sqr=int(reverse )**2\n",
    "    if int(number_sqr )==int(str(reverse_sqr)[::-1]):\n",
    "        print(\"adam number\")\n",
    "    else:\n",
    "        print(\"not a adam number\")\n",
    "number=input()\n",
    "adam(number)"
   ]
  },
  {
   "cell_type": "code",
   "execution_count": null,
   "metadata": {},
   "outputs": [],
   "source": []
  }
 ],
 "metadata": {
  "kernelspec": {
   "display_name": "Python 3",
   "language": "python",
   "name": "python3"
  },
  "language_info": {
   "codemirror_mode": {
    "name": "ipython",
    "version": 3
   },
   "file_extension": ".py",
   "mimetype": "text/x-python",
   "name": "python",
   "nbconvert_exporter": "python",
   "pygments_lexer": "ipython3",
   "version": "3.7.4"
  }
 },
 "nbformat": 4,
 "nbformat_minor": 2
}
