{
 "cells": [
  {
   "cell_type": "markdown",
   "metadata": {},
   "source": [
    "#CSE-221710306018-KAVYASREEGAMPA"
   ]
  },
  {
   "cell_type": "code",
   "execution_count": 13,
   "metadata": {},
   "outputs": [
    {
     "name": "stdout",
     "output_type": "stream",
     "text": [
      "This is the number of lines in the file\n",
      "15\n"
     ]
    }
   ],
   "source": [
    "#1. question\n",
    "file = open(\"files123.txt\",\"r\") \n",
    "Counter = 0\n",
    "  \n",
    "# Reading from file \n",
    "Content = file.read() \n",
    "CoList = Content.split(\"\\n\") \n",
    "  \n",
    "for i in CoList: \n",
    "    if i: \n",
    "        Counter += 1\n",
    "          \n",
    "print(\"This is the number of lines in the file\") \n",
    "print(Counter) "
   ]
  },
  {
   "cell_type": "code",
   "execution_count": 6,
   "metadata": {},
   "outputs": [],
   "source": [
    "#2. question\n",
    "with open(\"files.txt\") as f:\n",
    "    with open(\"files1.txt\", \"w\") as f1:\n",
    "        for line in f:\n",
    "            f1.write(line)"
   ]
  },
  {
   "cell_type": "code",
   "execution_count": 7,
   "metadata": {},
   "outputs": [],
   "source": [
    "#4. question\n",
    "import os\n",
    "os.rename( \"files.txt\", \"files123.txt\" )"
   ]
  },
  {
   "cell_type": "code",
   "execution_count": 14,
   "metadata": {},
   "outputs": [
    {
     "name": "stdout",
     "output_type": "stream",
     "text": [
      "phone\n"
     ]
    }
   ],
   "source": [
    "#4.question\n",
    "St= \"where is my phone\"\n",
    "for i in St.split():\n",
    "    if i.startswith(\"p\"):\n",
    "        print(i)"
   ]
  },
  {
   "cell_type": "code",
   "execution_count": null,
   "metadata": {},
   "outputs": [],
   "source": [
    "#5.1question\n",
    "# Create directory\n",
    "dirName = 'tempDir'\n",
    "try:\n",
    "# Create target Directory\n",
    "os.mkdir(dirName)\n",
    "print(\"Directory \" , dirName ,  \" Created \") \n",
    "except FileExistsError:\n",
    "print(\"Directory \" , dirName ,  \" already exists\")"
   ]
  },
  {
   "cell_type": "code",
   "execution_count": null,
   "metadata": {},
   "outputs": [],
   "source": [
    "#5.2question\n",
    "import os, os.path\n",
    "print len([name for name in os.listdir('.') if os.path.isfile(name)])\n",
    "\n",
    "DIR = '/tmp'\n",
    "print len([name for name in os.listdir(DIR) if os.path.isfile(os.path.join(DIR, name))])\n"
   ]
  },
  {
   "cell_type": "code",
   "execution_count": null,
   "metadata": {},
   "outputs": [],
   "source": [
    "#5.3 question\n",
    "import uuid\n",
    "\n",
    "unique_filename = str(uuid.uuid4())"
   ]
  },
  {
   "cell_type": "code",
   "execution_count": null,
   "metadata": {},
   "outputs": [],
   "source": [
    "#5.4 question\n",
    "file = open(“testfile.txt”,”w”) \n",
    " \n",
    "file.write(“Hello World”) \n",
    "file.write(“This is our new text file”) \n",
    "file.write(“and this is another line.”) \n",
    "file.write(“Why? Because we can.”) \n",
    " \n",
    "file.close() "
   ]
  },
  {
   "cell_type": "code",
   "execution_count": null,
   "metadata": {},
   "outputs": [],
   "source": [
    "#5.5 question\n",
    "import os\n",
    "\n",
    "file_name = \"abcdef.txt\"\n",
    "relative_path = os.open(\"/Users/pankaj\", os.O_RDONLY)\n",
    "\n",
    "file_stats = os.stat(file_name, dir_fd=relative_path)\n"
   ]
  }
 ],
 "metadata": {
  "kernelspec": {
   "display_name": "Python 3",
   "language": "python",
   "name": "python3"
  },
  "language_info": {
   "codemirror_mode": {
    "name": "ipython",
    "version": 3
   },
   "file_extension": ".py",
   "mimetype": "text/x-python",
   "name": "python",
   "nbconvert_exporter": "python",
   "pygments_lexer": "ipython3",
   "version": "3.7.4"
  }
 },
 "nbformat": 4,
 "nbformat_minor": 2
}
