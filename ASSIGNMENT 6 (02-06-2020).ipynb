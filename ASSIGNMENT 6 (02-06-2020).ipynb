{
 "cells": [
  {
   "cell_type": "markdown",
   "metadata": {},
   "source": [
    "#CSE-221710306018-KAVYASREEGAMPA"
   ]
  },
  {
   "cell_type": "code",
   "execution_count": 2,
   "metadata": {},
   "outputs": [
    {
     "name": "stdout",
     "output_type": "stream",
     "text": [
      "['?', '?', '?', '?', '?']\n",
      "lives left= 9\n",
      "enter a letter or the word:chair\n",
      "incorrect,u lost a life\n",
      "['?', '?', '?', '?', '?']\n",
      "lives left= 8\n",
      "enter a letter or the word:glass\n",
      "correct u won the game\n"
     ]
    }
   ],
   "source": [
    "\n",
    "#nine lives\n",
    "import random\n",
    "lives=9\n",
    "list1=('sleep','apple','books','photo','glass','chair','table','pizza','light','hello')\n",
    "word=random.choice(list1)\n",
    "ans=list('?????')\n",
    "guess=False\n",
    "while(lives>0):\n",
    "    print(ans)\n",
    "    print(\"lives left=\",lives)\n",
    "    letter=input(\"enter a letter or the word:\")\n",
    "    if letter==word:\n",
    "        print(\"correct u won the game\")\n",
    "        guess=True\n",
    "        break\n",
    "    elif letter in word:\n",
    "        print(\"corrrect..make another guess\")\n",
    "        i=0\n",
    "        while(i< len(word)):\n",
    "            if letter==word[i]:\n",
    "                ans[i]=letter\n",
    "            i=i+1\n",
    "\n",
    "    else:\n",
    "        print(\"incorrect,u lost a life\")\n",
    "        lives=lives-1\n",
    "if guess==False:\n",
    "    print('You lost! The secret word was ',word)\n",
    "\n"
   ]
  }
 ],
 "metadata": {
  "kernelspec": {
   "display_name": "Python 3",
   "language": "python",
   "name": "python3"
  },
  "language_info": {
   "codemirror_mode": {
    "name": "ipython",
    "version": 3
   },
   "file_extension": ".py",
   "mimetype": "text/x-python",
   "name": "python",
   "nbconvert_exporter": "python",
   "pygments_lexer": "ipython3",
   "version": "3.7.4"
  }
 },
 "nbformat": 4,
 "nbformat_minor": 2
}
